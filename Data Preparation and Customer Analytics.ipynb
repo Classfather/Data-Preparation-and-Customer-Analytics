{
 "cells": [
  {
   "cell_type": "code",
   "execution_count": 1,
   "id": "e53170cc-2f3b-437d-871e-4b85743c2379",
   "metadata": {},
   "outputs": [],
   "source": [
    "#Load Libraries\n",
    "library(data.table)\n",
    "library(ggplot2)\n",
    "library(ggmosaic)\n",
    "library(readr)\n",
    "library(stringr)"
   ]
  },
  {
   "cell_type": "code",
   "execution_count": 2,
   "id": "602b6840-ebc5-4b51-a24a-e01d325d0ea5",
   "metadata": {},
   "outputs": [],
   "source": [
    "#load data\n",
    "filePath <- \"../Documents/\"\n",
    "customerData <- fread(paste0(filePath, \"QVI_purchase_behaviour.csv\"))\n",
    "library(readxl)\n",
    "transactionData = read_excel(\"../desktop/QVI_transaction_data.xlsx\")\n",
    "setDT(transactionData)\n"
   ]
  },
  {
   "cell_type": "markdown",
   "id": "c8e5b694-5528-4e5d-9f12-69318a0a10c9",
   "metadata": {},
   "source": [
    "### Exploratory Data Analysis"
   ]
  },
  {
   "cell_type": "code",
   "execution_count": 3,
   "id": "636b49c7-5f1a-4ff3-95a5-f143192846dc",
   "metadata": {
    "collapsed": true,
    "jupyter": {
     "outputs_hidden": true,
     "source_hidden": true
    },
    "scrolled": true
   },
   "outputs": [
    {
     "data": {
      "text/html": [
       "<table class=\"dataframe\">\n",
       "<caption>A data.table: 6 × 8</caption>\n",
       "<thead>\n",
       "\t<tr><th scope=col>DATE</th><th scope=col>STORE_NBR</th><th scope=col>LYLTY_CARD_NBR</th><th scope=col>TXN_ID</th><th scope=col>PROD_NBR</th><th scope=col>PROD_NAME</th><th scope=col>PROD_QTY</th><th scope=col>TOT_SALES</th></tr>\n",
       "\t<tr><th scope=col>&lt;dbl&gt;</th><th scope=col>&lt;dbl&gt;</th><th scope=col>&lt;dbl&gt;</th><th scope=col>&lt;dbl&gt;</th><th scope=col>&lt;dbl&gt;</th><th scope=col>&lt;chr&gt;</th><th scope=col>&lt;dbl&gt;</th><th scope=col>&lt;dbl&gt;</th></tr>\n",
       "</thead>\n",
       "<tbody>\n",
       "\t<tr><td>43390</td><td>1</td><td>1000</td><td>   1</td><td>  5</td><td>Natural Chip        Compny SeaSalt175g  </td><td>2</td><td> 6.0</td></tr>\n",
       "\t<tr><td>43599</td><td>1</td><td>1307</td><td> 348</td><td> 66</td><td>CCs Nacho Cheese    175g                </td><td>3</td><td> 6.3</td></tr>\n",
       "\t<tr><td>43605</td><td>1</td><td>1343</td><td> 383</td><td> 61</td><td>Smiths Crinkle Cut  Chips Chicken 170g  </td><td>2</td><td> 2.9</td></tr>\n",
       "\t<tr><td>43329</td><td>2</td><td>2373</td><td> 974</td><td> 69</td><td><span style=white-space:pre-wrap>Smiths Chip Thinly  S/Cream&amp;Onion 175g  </span></td><td>5</td><td>15.0</td></tr>\n",
       "\t<tr><td>43330</td><td>2</td><td>2426</td><td>1038</td><td>108</td><td>Kettle Tortilla ChpsHny&amp;Jlpno Chili 150g</td><td>3</td><td>13.8</td></tr>\n",
       "\t<tr><td>43604</td><td>4</td><td>4074</td><td>2982</td><td> 57</td><td>Old El Paso Salsa   Dip Tomato Mild 300g</td><td>1</td><td> 5.1</td></tr>\n",
       "</tbody>\n",
       "</table>\n"
      ],
      "text/latex": [
       "A data.table: 6 × 8\n",
       "\\begin{tabular}{llllllll}\n",
       " DATE & STORE\\_NBR & LYLTY\\_CARD\\_NBR & TXN\\_ID & PROD\\_NBR & PROD\\_NAME & PROD\\_QTY & TOT\\_SALES\\\\\n",
       " <dbl> & <dbl> & <dbl> & <dbl> & <dbl> & <chr> & <dbl> & <dbl>\\\\\n",
       "\\hline\n",
       "\t 43390 & 1 & 1000 &    1 &   5 & Natural Chip        Compny SeaSalt175g   & 2 &  6.0\\\\\n",
       "\t 43599 & 1 & 1307 &  348 &  66 & CCs Nacho Cheese    175g                 & 3 &  6.3\\\\\n",
       "\t 43605 & 1 & 1343 &  383 &  61 & Smiths Crinkle Cut  Chips Chicken 170g   & 2 &  2.9\\\\\n",
       "\t 43329 & 2 & 2373 &  974 &  69 & Smiths Chip Thinly  S/Cream\\&Onion 175g   & 5 & 15.0\\\\\n",
       "\t 43330 & 2 & 2426 & 1038 & 108 & Kettle Tortilla ChpsHny\\&Jlpno Chili 150g & 3 & 13.8\\\\\n",
       "\t 43604 & 4 & 4074 & 2982 &  57 & Old El Paso Salsa   Dip Tomato Mild 300g & 1 &  5.1\\\\\n",
       "\\end{tabular}\n"
      ],
      "text/markdown": [
       "\n",
       "A data.table: 6 × 8\n",
       "\n",
       "| DATE &lt;dbl&gt; | STORE_NBR &lt;dbl&gt; | LYLTY_CARD_NBR &lt;dbl&gt; | TXN_ID &lt;dbl&gt; | PROD_NBR &lt;dbl&gt; | PROD_NAME &lt;chr&gt; | PROD_QTY &lt;dbl&gt; | TOT_SALES &lt;dbl&gt; |\n",
       "|---|---|---|---|---|---|---|---|\n",
       "| 43390 | 1 | 1000 |    1 |   5 | Natural Chip        Compny SeaSalt175g   | 2 |  6.0 |\n",
       "| 43599 | 1 | 1307 |  348 |  66 | CCs Nacho Cheese    175g                 | 3 |  6.3 |\n",
       "| 43605 | 1 | 1343 |  383 |  61 | Smiths Crinkle Cut  Chips Chicken 170g   | 2 |  2.9 |\n",
       "| 43329 | 2 | 2373 |  974 |  69 | Smiths Chip Thinly  S/Cream&amp;Onion 175g   | 5 | 15.0 |\n",
       "| 43330 | 2 | 2426 | 1038 | 108 | Kettle Tortilla ChpsHny&amp;Jlpno Chili 150g | 3 | 13.8 |\n",
       "| 43604 | 4 | 4074 | 2982 |  57 | Old El Paso Salsa   Dip Tomato Mild 300g | 1 |  5.1 |\n",
       "\n"
      ],
      "text/plain": [
       "  DATE  STORE_NBR LYLTY_CARD_NBR TXN_ID PROD_NBR\n",
       "1 43390 1         1000              1     5     \n",
       "2 43599 1         1307            348    66     \n",
       "3 43605 1         1343            383    61     \n",
       "4 43329 2         2373            974    69     \n",
       "5 43330 2         2426           1038   108     \n",
       "6 43604 4         4074           2982    57     \n",
       "  PROD_NAME                                PROD_QTY TOT_SALES\n",
       "1 Natural Chip        Compny SeaSalt175g   2         6.0     \n",
       "2 CCs Nacho Cheese    175g                 3         6.3     \n",
       "3 Smiths Crinkle Cut  Chips Chicken 170g   2         2.9     \n",
       "4 Smiths Chip Thinly  S/Cream&Onion 175g   5        15.0     \n",
       "5 Kettle Tortilla ChpsHny&Jlpno Chili 150g 3        13.8     \n",
       "6 Old El Paso Salsa   Dip Tomato Mild 300g 1         5.1     "
      ]
     },
     "metadata": {},
     "output_type": "display_data"
    }
   ],
   "source": [
    "##Examining transaction data\n",
    "head(transactionData)\n"
   ]
  },
  {
   "cell_type": "code",
   "execution_count": 4,
   "id": "1800bc03-96a4-47e3-a309-ff65aa88db06",
   "metadata": {
    "collapsed": true,
    "jupyter": {
     "outputs_hidden": true,
     "source_hidden": true
    },
    "scrolled": true
   },
   "outputs": [
    {
     "name": "stdout",
     "output_type": "stream",
     "text": [
      "Classes 'data.table' and 'data.frame':\t264836 obs. of  8 variables:\n",
      " $ DATE          : num  43390 43599 43605 43329 43330 ...\n",
      " $ STORE_NBR     : num  1 1 1 2 2 4 4 4 5 7 ...\n",
      " $ LYLTY_CARD_NBR: num  1000 1307 1343 2373 2426 ...\n",
      " $ TXN_ID        : num  1 348 383 974 1038 ...\n",
      " $ PROD_NBR      : num  5 66 61 69 108 57 16 24 42 52 ...\n",
      " $ PROD_NAME     : chr  \"Natural Chip        Compny SeaSalt175g\" \"CCs Nacho Cheese    175g\" \"Smiths Crinkle Cut  Chips Chicken 170g\" \"Smiths Chip Thinly  S/Cream&Onion 175g\" ...\n",
      " $ PROD_QTY      : num  2 3 2 5 3 1 1 1 1 2 ...\n",
      " $ TOT_SALES     : num  6 6.3 2.9 15 13.8 5.1 5.7 3.6 3.9 7.2 ...\n",
      " - attr(*, \".internal.selfref\")=<externalptr> \n"
     ]
    }
   ],
   "source": [
    "#checking the structure of each column\n",
    "str(transactionData)"
   ]
  },
  {
   "cell_type": "code",
   "execution_count": 5,
   "id": "8cc35d98-b064-45e3-9e26-e277150e72d5",
   "metadata": {
    "jupyter": {
     "source_hidden": true
    }
   },
   "outputs": [],
   "source": [
    "#change date format from interger to date format\n",
    "transactionData$DATE <- as.Date(transactionData$DATE, origin = \"1899-12-30\")\n"
   ]
  },
  {
   "cell_type": "markdown",
   "id": "cbc45587-0109-49ef-9138-fba8fcc5bd7c",
   "metadata": {},
   "source": [
    "As we are only interested in words that will tell us if the productis chips or not, let’s remove all words with digits and special characters from our set of product words"
   ]
  },
  {
   "cell_type": "code",
   "execution_count": 6,
   "id": "65423d57-95ac-44a5-878c-fe66ac7244fb",
   "metadata": {
    "collapsed": true,
    "jupyter": {
     "outputs_hidden": true
    },
    "scrolled": true
   },
   "outputs": [
    {
     "data": {
      "text/plain": [
       "   Length     Class      Mode \n",
       "   264836 character character "
      ]
     },
     "metadata": {},
     "output_type": "display_data"
    },
    {
     "data": {
      "text/html": [
       "<style>\n",
       ".list-inline {list-style: none; margin:0; padding: 0}\n",
       ".list-inline>li {display: inline-block}\n",
       ".list-inline>li:not(:last-child)::after {content: \"\\00b7\"; padding: 0 .5ex}\n",
       "</style>\n",
       "<ol class=list-inline><li><span style=white-space:pre-wrap>'Natural Chip        Compny SeaSalt175g'</span></li><li><span style=white-space:pre-wrap>'CCs Nacho Cheese    175g'</span></li><li><span style=white-space:pre-wrap>'Smiths Crinkle Cut  Chips Chicken 170g'</span></li><li><span style=white-space:pre-wrap>'Smiths Chip Thinly  S/Cream&amp;Onion 175g'</span></li><li>'Kettle Tortilla ChpsHny&amp;Jlpno Chili 150g'</li><li><span style=white-space:pre-wrap>'Old El Paso Salsa   Dip Tomato Mild 300g'</span></li><li>'Smiths Crinkle Chips Salt &amp; Vinegar 330g'</li><li><span style=white-space:pre-wrap>'Grain Waves         Sweet Chilli 210g'</span></li><li>'Doritos Corn Chip Mexican Jalapeno 150g'</li><li><span style=white-space:pre-wrap>'Grain Waves Sour    Cream&amp;Chives 210G'</span></li><li><span style=white-space:pre-wrap>'Kettle Sensations   Siracha Lime 150g'</span></li><li><span style=white-space:pre-wrap>'Twisties Cheese     270g'</span></li><li><span style=white-space:pre-wrap>'WW Crinkle Cut      Chicken 175g'</span></li><li><span style=white-space:pre-wrap>'Thins Chips Light&amp;  Tangy 175g'</span></li><li>'CCs Original 175g'</li><li>'Burger Rings 220g'</li><li><span style=white-space:pre-wrap>'NCC Sour Cream &amp;    Garden Chives 175g'</span></li><li>'Doritos Corn Chip Southern Chicken 150g'</li><li>'Cheezels Cheese Box 125g'</li><li><span style=white-space:pre-wrap>'Smiths Crinkle      Original 330g'</span></li><li>'Infzns Crn Crnchers Tangy Gcamole 110g'</li><li><span style=white-space:pre-wrap>'Kettle Sea Salt     And Vinegar 175g'</span></li><li><span style=white-space:pre-wrap>'Smiths Chip Thinly  Cut Original 175g'</span></li><li>'Kettle Original 175g'</li><li><span style=white-space:pre-wrap>'Red Rock Deli Thai  Chilli&amp;Lime 150g'</span></li><li>'Pringles Sthrn FriedChicken 134g'</li><li>'Pringles Sweet&amp;Spcy BBQ 134g'</li><li><span style=white-space:pre-wrap>'Red Rock Deli SR    Salsa &amp; Mzzrlla 150g'</span></li><li><span style=white-space:pre-wrap>'Thins Chips         Originl saltd 175g'</span></li><li><span style=white-space:pre-wrap>'Red Rock Deli Sp    Salt &amp; Truffle 150G'</span></li><li><span style=white-space:pre-wrap>'Smiths Thinly       Swt Chli&amp;S/Cream175G'</span></li><li>'Kettle Chilli 175g'</li><li><span style=white-space:pre-wrap>'Doritos Mexicana    170g'</span></li><li><span style=white-space:pre-wrap>'Smiths Crinkle Cut  French OnionDip 150g'</span></li><li><span style=white-space:pre-wrap>'Natural ChipCo      Hony Soy Chckn175g'</span></li><li><span style=white-space:pre-wrap>'Dorito Corn Chp     Supreme 380g'</span></li><li>'Twisties Chicken270g'</li><li><span style=white-space:pre-wrap>'Smiths Thinly Cut   Roast Chicken 175g'</span></li><li><span style=white-space:pre-wrap>'Smiths Crinkle Cut  Tomato Salsa 150g'</span></li><li><span style=white-space:pre-wrap>'Kettle Mozzarella   Basil &amp; Pesto 175g'</span></li><li>'Infuzions Thai SweetChili PotatoMix 110g'</li><li><span style=white-space:pre-wrap>'Kettle Sensations   Camembert &amp; Fig 150g'</span></li><li><span style=white-space:pre-wrap>'Smith Crinkle Cut   Mac N Cheese 150g'</span></li><li><span style=white-space:pre-wrap>'Kettle Honey Soy    Chicken 175g'</span></li><li>'Thins Chips Seasonedchicken 175g'</li><li><span style=white-space:pre-wrap>'Smiths Crinkle Cut  Salt &amp; Vinegar 170g'</span></li><li><span style=white-space:pre-wrap>'Infuzions BBQ Rib   Prawn Crackers 110g'</span></li><li>'GrnWves Plus Btroot &amp; Chilli Jam 180g'</li><li><span style=white-space:pre-wrap>'Tyrrells Crisps     Lightly Salted 165g'</span></li><li>'Kettle Sweet Chilli And Sour Cream 175g'</li><li><span style=white-space:pre-wrap>'Doritos Salsa       Medium 300g'</span></li><li>'Kettle 135g Swt Pot Sea Salt'</li><li><span style=white-space:pre-wrap>'Pringles SourCream  Onion 134g'</span></li><li><span style=white-space:pre-wrap>'Doritos Corn Chips  Original 170g'</span></li><li><span style=white-space:pre-wrap>'Twisties Cheese     Burger 250g'</span></li><li><span style=white-space:pre-wrap>'Old El Paso Salsa   Dip Chnky Tom Ht300g'</span></li><li>'Cobs Popd Swt/Chlli &amp;Sr/Cream Chips 110g'</li><li><span style=white-space:pre-wrap>'Woolworths Mild     Salsa 300g'</span></li><li><span style=white-space:pre-wrap>'Natural Chip Co     Tmato Hrb&amp;Spce 175g'</span></li><li><span style=white-space:pre-wrap>'Smiths Crinkle Cut  Chips Original 170g'</span></li><li><span style=white-space:pre-wrap>'Cobs Popd Sea Salt  Chips 110g'</span></li><li><span style=white-space:pre-wrap>'Smiths Crinkle Cut  Chips Chs&amp;Onion170g'</span></li><li>'French Fries Potato Chips 175g'</li><li><span style=white-space:pre-wrap>'Old El Paso Salsa   Dip Tomato Med 300g'</span></li><li><span style=white-space:pre-wrap>'Doritos Corn Chips  Cheese Supreme 170g'</span></li><li><span style=white-space:pre-wrap>'Pringles Original   Crisps 134g'</span></li><li><span style=white-space:pre-wrap>'RRD Chilli&amp;         Coconut 150g'</span></li><li><span style=white-space:pre-wrap>'WW Original Corn    Chips 200g'</span></li><li><span style=white-space:pre-wrap>'Thins Potato Chips  Hot &amp; Spicy 175g'</span></li><li><span style=white-space:pre-wrap>'Cobs Popd Sour Crm  &amp;Chives Chips 110g'</span></li><li><span style=white-space:pre-wrap>'Smiths Crnkle Chip  Orgnl Big Bag 380g'</span></li><li><span style=white-space:pre-wrap>'Doritos Corn Chips  Nacho Cheese 170g'</span></li><li><span style=white-space:pre-wrap>'Kettle Sensations   BBQ&amp;Maple 150g'</span></li><li><span style=white-space:pre-wrap>'WW D/Style Chip     Sea Salt 200g'</span></li><li><span style=white-space:pre-wrap>'Pringles Chicken    Salt Crips 134g'</span></li><li>'WW Original Stacked Chips 160g'</li><li><span style=white-space:pre-wrap>'Smiths Chip Thinly  CutSalt/Vinegr175g'</span></li><li>'Cheezels Cheese 330g'</li><li><span style=white-space:pre-wrap>'Tostitos Lightly    Salted 175g'</span></li><li><span style=white-space:pre-wrap>'Thins Chips Salt &amp;  Vinegar 175g'</span></li><li><span style=white-space:pre-wrap>'Smiths Crinkle Cut  Chips Barbecue 170g'</span></li><li>'Cheetos Puffs 165g'</li><li><span style=white-space:pre-wrap>'RRD Sweet Chilli &amp;  Sour Cream 165g'</span></li><li><span style=white-space:pre-wrap>'WW Crinkle Cut      Original 175g'</span></li><li><span style=white-space:pre-wrap>'Tostitos Splash Of  Lime 175g'</span></li><li><span style=white-space:pre-wrap>'Woolworths Medium   Salsa 300g'</span></li><li>'Kettle Tortilla ChpsBtroot&amp;Ricotta 150g'</li><li><span style=white-space:pre-wrap>'CCs Tasty Cheese    175g'</span></li><li><span style=white-space:pre-wrap>'Woolworths Cheese   Rings 190g'</span></li><li><span style=white-space:pre-wrap>'Tostitos Smoked     Chipotle 175g'</span></li><li><span style=white-space:pre-wrap>'Pringles Barbeque   134g'</span></li><li><span style=white-space:pre-wrap>'WW Supreme Cheese   Corn Chips 200g'</span></li><li><span style=white-space:pre-wrap>'Pringles Mystery    Flavour 134g'</span></li><li><span style=white-space:pre-wrap>'Tyrrells Crisps     Ched &amp; Chives 165g'</span></li><li>'Snbts Whlgrn Crisps Cheddr&amp;Mstrd 90g'</li><li>'Cheetos Chs &amp; Bacon Balls 190g'</li><li>'Pringles Slt Vingar 134g'</li><li>'Infuzions SourCream&amp;Herbs Veg Strws 110g'</li><li>'Kettle Tortilla ChpsFeta&amp;Garlic 150g'</li><li><span style=white-space:pre-wrap>'Infuzions Mango     Chutny Papadums 70g'</span></li><li><span style=white-space:pre-wrap>'RRD Steak &amp;         Chimuchurri 150g'</span></li><li><span style=white-space:pre-wrap>'RRD Honey Soy       Chicken 165g'</span></li><li><span style=white-space:pre-wrap>'Sunbites Whlegrn    Crisps Frch/Onin 90g'</span></li><li><span style=white-space:pre-wrap>'RRD Salt &amp; Vinegar  165g'</span></li><li><span style=white-space:pre-wrap>'Doritos Cheese      Supreme 330g'</span></li><li><span style=white-space:pre-wrap>'Smiths Crinkle Cut  Snag&amp;Sauce 150g'</span></li><li>'WW Sour Cream &amp;OnionStacked Chips 160g'</li><li><span style=white-space:pre-wrap>'RRD Lime &amp; Pepper   165g'</span></li><li><span style=white-space:pre-wrap>'Natural ChipCo Sea  Salt &amp; Vinegr 175g'</span></li><li>'Red Rock Deli Chikn&amp;Garlic Aioli 150g'</li><li><span style=white-space:pre-wrap>'RRD SR Slow Rst     Pork Belly 150g'</span></li><li><span style=white-space:pre-wrap>'RRD Pc Sea Salt     165g'</span></li><li><span style=white-space:pre-wrap>'Smith Crinkle Cut   Bolognese 150g'</span></li><li><span style=white-space:pre-wrap>'Doritos Salsa Mild  300g'</span></li></ol>\n"
      ],
      "text/latex": [
       "\\begin{enumerate*}\n",
       "\\item 'Natural Chip        Compny SeaSalt175g'\n",
       "\\item 'CCs Nacho Cheese    175g'\n",
       "\\item 'Smiths Crinkle Cut  Chips Chicken 170g'\n",
       "\\item 'Smiths Chip Thinly  S/Cream\\&Onion 175g'\n",
       "\\item 'Kettle Tortilla ChpsHny\\&Jlpno Chili 150g'\n",
       "\\item 'Old El Paso Salsa   Dip Tomato Mild 300g'\n",
       "\\item 'Smiths Crinkle Chips Salt \\& Vinegar 330g'\n",
       "\\item 'Grain Waves         Sweet Chilli 210g'\n",
       "\\item 'Doritos Corn Chip Mexican Jalapeno 150g'\n",
       "\\item 'Grain Waves Sour    Cream\\&Chives 210G'\n",
       "\\item 'Kettle Sensations   Siracha Lime 150g'\n",
       "\\item 'Twisties Cheese     270g'\n",
       "\\item 'WW Crinkle Cut      Chicken 175g'\n",
       "\\item 'Thins Chips Light\\&  Tangy 175g'\n",
       "\\item 'CCs Original 175g'\n",
       "\\item 'Burger Rings 220g'\n",
       "\\item 'NCC Sour Cream \\&    Garden Chives 175g'\n",
       "\\item 'Doritos Corn Chip Southern Chicken 150g'\n",
       "\\item 'Cheezels Cheese Box 125g'\n",
       "\\item 'Smiths Crinkle      Original 330g'\n",
       "\\item 'Infzns Crn Crnchers Tangy Gcamole 110g'\n",
       "\\item 'Kettle Sea Salt     And Vinegar 175g'\n",
       "\\item 'Smiths Chip Thinly  Cut Original 175g'\n",
       "\\item 'Kettle Original 175g'\n",
       "\\item 'Red Rock Deli Thai  Chilli\\&Lime 150g'\n",
       "\\item 'Pringles Sthrn FriedChicken 134g'\n",
       "\\item 'Pringles Sweet\\&Spcy BBQ 134g'\n",
       "\\item 'Red Rock Deli SR    Salsa \\& Mzzrlla 150g'\n",
       "\\item 'Thins Chips         Originl saltd 175g'\n",
       "\\item 'Red Rock Deli Sp    Salt \\& Truffle 150G'\n",
       "\\item 'Smiths Thinly       Swt Chli\\&S/Cream175G'\n",
       "\\item 'Kettle Chilli 175g'\n",
       "\\item 'Doritos Mexicana    170g'\n",
       "\\item 'Smiths Crinkle Cut  French OnionDip 150g'\n",
       "\\item 'Natural ChipCo      Hony Soy Chckn175g'\n",
       "\\item 'Dorito Corn Chp     Supreme 380g'\n",
       "\\item 'Twisties Chicken270g'\n",
       "\\item 'Smiths Thinly Cut   Roast Chicken 175g'\n",
       "\\item 'Smiths Crinkle Cut  Tomato Salsa 150g'\n",
       "\\item 'Kettle Mozzarella   Basil \\& Pesto 175g'\n",
       "\\item 'Infuzions Thai SweetChili PotatoMix 110g'\n",
       "\\item 'Kettle Sensations   Camembert \\& Fig 150g'\n",
       "\\item 'Smith Crinkle Cut   Mac N Cheese 150g'\n",
       "\\item 'Kettle Honey Soy    Chicken 175g'\n",
       "\\item 'Thins Chips Seasonedchicken 175g'\n",
       "\\item 'Smiths Crinkle Cut  Salt \\& Vinegar 170g'\n",
       "\\item 'Infuzions BBQ Rib   Prawn Crackers 110g'\n",
       "\\item 'GrnWves Plus Btroot \\& Chilli Jam 180g'\n",
       "\\item 'Tyrrells Crisps     Lightly Salted 165g'\n",
       "\\item 'Kettle Sweet Chilli And Sour Cream 175g'\n",
       "\\item 'Doritos Salsa       Medium 300g'\n",
       "\\item 'Kettle 135g Swt Pot Sea Salt'\n",
       "\\item 'Pringles SourCream  Onion 134g'\n",
       "\\item 'Doritos Corn Chips  Original 170g'\n",
       "\\item 'Twisties Cheese     Burger 250g'\n",
       "\\item 'Old El Paso Salsa   Dip Chnky Tom Ht300g'\n",
       "\\item 'Cobs Popd Swt/Chlli \\&Sr/Cream Chips 110g'\n",
       "\\item 'Woolworths Mild     Salsa 300g'\n",
       "\\item 'Natural Chip Co     Tmato Hrb\\&Spce 175g'\n",
       "\\item 'Smiths Crinkle Cut  Chips Original 170g'\n",
       "\\item 'Cobs Popd Sea Salt  Chips 110g'\n",
       "\\item 'Smiths Crinkle Cut  Chips Chs\\&Onion170g'\n",
       "\\item 'French Fries Potato Chips 175g'\n",
       "\\item 'Old El Paso Salsa   Dip Tomato Med 300g'\n",
       "\\item 'Doritos Corn Chips  Cheese Supreme 170g'\n",
       "\\item 'Pringles Original   Crisps 134g'\n",
       "\\item 'RRD Chilli\\&         Coconut 150g'\n",
       "\\item 'WW Original Corn    Chips 200g'\n",
       "\\item 'Thins Potato Chips  Hot \\& Spicy 175g'\n",
       "\\item 'Cobs Popd Sour Crm  \\&Chives Chips 110g'\n",
       "\\item 'Smiths Crnkle Chip  Orgnl Big Bag 380g'\n",
       "\\item 'Doritos Corn Chips  Nacho Cheese 170g'\n",
       "\\item 'Kettle Sensations   BBQ\\&Maple 150g'\n",
       "\\item 'WW D/Style Chip     Sea Salt 200g'\n",
       "\\item 'Pringles Chicken    Salt Crips 134g'\n",
       "\\item 'WW Original Stacked Chips 160g'\n",
       "\\item 'Smiths Chip Thinly  CutSalt/Vinegr175g'\n",
       "\\item 'Cheezels Cheese 330g'\n",
       "\\item 'Tostitos Lightly    Salted 175g'\n",
       "\\item 'Thins Chips Salt \\&  Vinegar 175g'\n",
       "\\item 'Smiths Crinkle Cut  Chips Barbecue 170g'\n",
       "\\item 'Cheetos Puffs 165g'\n",
       "\\item 'RRD Sweet Chilli \\&  Sour Cream 165g'\n",
       "\\item 'WW Crinkle Cut      Original 175g'\n",
       "\\item 'Tostitos Splash Of  Lime 175g'\n",
       "\\item 'Woolworths Medium   Salsa 300g'\n",
       "\\item 'Kettle Tortilla ChpsBtroot\\&Ricotta 150g'\n",
       "\\item 'CCs Tasty Cheese    175g'\n",
       "\\item 'Woolworths Cheese   Rings 190g'\n",
       "\\item 'Tostitos Smoked     Chipotle 175g'\n",
       "\\item 'Pringles Barbeque   134g'\n",
       "\\item 'WW Supreme Cheese   Corn Chips 200g'\n",
       "\\item 'Pringles Mystery    Flavour 134g'\n",
       "\\item 'Tyrrells Crisps     Ched \\& Chives 165g'\n",
       "\\item 'Snbts Whlgrn Crisps Cheddr\\&Mstrd 90g'\n",
       "\\item 'Cheetos Chs \\& Bacon Balls 190g'\n",
       "\\item 'Pringles Slt Vingar 134g'\n",
       "\\item 'Infuzions SourCream\\&Herbs Veg Strws 110g'\n",
       "\\item 'Kettle Tortilla ChpsFeta\\&Garlic 150g'\n",
       "\\item 'Infuzions Mango     Chutny Papadums 70g'\n",
       "\\item 'RRD Steak \\&         Chimuchurri 150g'\n",
       "\\item 'RRD Honey Soy       Chicken 165g'\n",
       "\\item 'Sunbites Whlegrn    Crisps Frch/Onin 90g'\n",
       "\\item 'RRD Salt \\& Vinegar  165g'\n",
       "\\item 'Doritos Cheese      Supreme 330g'\n",
       "\\item 'Smiths Crinkle Cut  Snag\\&Sauce 150g'\n",
       "\\item 'WW Sour Cream \\&OnionStacked Chips 160g'\n",
       "\\item 'RRD Lime \\& Pepper   165g'\n",
       "\\item 'Natural ChipCo Sea  Salt \\& Vinegr 175g'\n",
       "\\item 'Red Rock Deli Chikn\\&Garlic Aioli 150g'\n",
       "\\item 'RRD SR Slow Rst     Pork Belly 150g'\n",
       "\\item 'RRD Pc Sea Salt     165g'\n",
       "\\item 'Smith Crinkle Cut   Bolognese 150g'\n",
       "\\item 'Doritos Salsa Mild  300g'\n",
       "\\end{enumerate*}\n"
      ],
      "text/markdown": [
       "1. <span style=white-space:pre-wrap>'Natural Chip        Compny SeaSalt175g'</span>\n",
       "2. <span style=white-space:pre-wrap>'CCs Nacho Cheese    175g'</span>\n",
       "3. <span style=white-space:pre-wrap>'Smiths Crinkle Cut  Chips Chicken 170g'</span>\n",
       "4. <span style=white-space:pre-wrap>'Smiths Chip Thinly  S/Cream&amp;Onion 175g'</span>\n",
       "5. 'Kettle Tortilla ChpsHny&amp;Jlpno Chili 150g'\n",
       "6. <span style=white-space:pre-wrap>'Old El Paso Salsa   Dip Tomato Mild 300g'</span>\n",
       "7. 'Smiths Crinkle Chips Salt &amp; Vinegar 330g'\n",
       "8. <span style=white-space:pre-wrap>'Grain Waves         Sweet Chilli 210g'</span>\n",
       "9. 'Doritos Corn Chip Mexican Jalapeno 150g'\n",
       "10. <span style=white-space:pre-wrap>'Grain Waves Sour    Cream&amp;Chives 210G'</span>\n",
       "11. <span style=white-space:pre-wrap>'Kettle Sensations   Siracha Lime 150g'</span>\n",
       "12. <span style=white-space:pre-wrap>'Twisties Cheese     270g'</span>\n",
       "13. <span style=white-space:pre-wrap>'WW Crinkle Cut      Chicken 175g'</span>\n",
       "14. <span style=white-space:pre-wrap>'Thins Chips Light&amp;  Tangy 175g'</span>\n",
       "15. 'CCs Original 175g'\n",
       "16. 'Burger Rings 220g'\n",
       "17. <span style=white-space:pre-wrap>'NCC Sour Cream &amp;    Garden Chives 175g'</span>\n",
       "18. 'Doritos Corn Chip Southern Chicken 150g'\n",
       "19. 'Cheezels Cheese Box 125g'\n",
       "20. <span style=white-space:pre-wrap>'Smiths Crinkle      Original 330g'</span>\n",
       "21. 'Infzns Crn Crnchers Tangy Gcamole 110g'\n",
       "22. <span style=white-space:pre-wrap>'Kettle Sea Salt     And Vinegar 175g'</span>\n",
       "23. <span style=white-space:pre-wrap>'Smiths Chip Thinly  Cut Original 175g'</span>\n",
       "24. 'Kettle Original 175g'\n",
       "25. <span style=white-space:pre-wrap>'Red Rock Deli Thai  Chilli&amp;Lime 150g'</span>\n",
       "26. 'Pringles Sthrn FriedChicken 134g'\n",
       "27. 'Pringles Sweet&amp;Spcy BBQ 134g'\n",
       "28. <span style=white-space:pre-wrap>'Red Rock Deli SR    Salsa &amp; Mzzrlla 150g'</span>\n",
       "29. <span style=white-space:pre-wrap>'Thins Chips         Originl saltd 175g'</span>\n",
       "30. <span style=white-space:pre-wrap>'Red Rock Deli Sp    Salt &amp; Truffle 150G'</span>\n",
       "31. <span style=white-space:pre-wrap>'Smiths Thinly       Swt Chli&amp;S/Cream175G'</span>\n",
       "32. 'Kettle Chilli 175g'\n",
       "33. <span style=white-space:pre-wrap>'Doritos Mexicana    170g'</span>\n",
       "34. <span style=white-space:pre-wrap>'Smiths Crinkle Cut  French OnionDip 150g'</span>\n",
       "35. <span style=white-space:pre-wrap>'Natural ChipCo      Hony Soy Chckn175g'</span>\n",
       "36. <span style=white-space:pre-wrap>'Dorito Corn Chp     Supreme 380g'</span>\n",
       "37. 'Twisties Chicken270g'\n",
       "38. <span style=white-space:pre-wrap>'Smiths Thinly Cut   Roast Chicken 175g'</span>\n",
       "39. <span style=white-space:pre-wrap>'Smiths Crinkle Cut  Tomato Salsa 150g'</span>\n",
       "40. <span style=white-space:pre-wrap>'Kettle Mozzarella   Basil &amp; Pesto 175g'</span>\n",
       "41. 'Infuzions Thai SweetChili PotatoMix 110g'\n",
       "42. <span style=white-space:pre-wrap>'Kettle Sensations   Camembert &amp; Fig 150g'</span>\n",
       "43. <span style=white-space:pre-wrap>'Smith Crinkle Cut   Mac N Cheese 150g'</span>\n",
       "44. <span style=white-space:pre-wrap>'Kettle Honey Soy    Chicken 175g'</span>\n",
       "45. 'Thins Chips Seasonedchicken 175g'\n",
       "46. <span style=white-space:pre-wrap>'Smiths Crinkle Cut  Salt &amp; Vinegar 170g'</span>\n",
       "47. <span style=white-space:pre-wrap>'Infuzions BBQ Rib   Prawn Crackers 110g'</span>\n",
       "48. 'GrnWves Plus Btroot &amp; Chilli Jam 180g'\n",
       "49. <span style=white-space:pre-wrap>'Tyrrells Crisps     Lightly Salted 165g'</span>\n",
       "50. 'Kettle Sweet Chilli And Sour Cream 175g'\n",
       "51. <span style=white-space:pre-wrap>'Doritos Salsa       Medium 300g'</span>\n",
       "52. 'Kettle 135g Swt Pot Sea Salt'\n",
       "53. <span style=white-space:pre-wrap>'Pringles SourCream  Onion 134g'</span>\n",
       "54. <span style=white-space:pre-wrap>'Doritos Corn Chips  Original 170g'</span>\n",
       "55. <span style=white-space:pre-wrap>'Twisties Cheese     Burger 250g'</span>\n",
       "56. <span style=white-space:pre-wrap>'Old El Paso Salsa   Dip Chnky Tom Ht300g'</span>\n",
       "57. 'Cobs Popd Swt/Chlli &amp;Sr/Cream Chips 110g'\n",
       "58. <span style=white-space:pre-wrap>'Woolworths Mild     Salsa 300g'</span>\n",
       "59. <span style=white-space:pre-wrap>'Natural Chip Co     Tmato Hrb&amp;Spce 175g'</span>\n",
       "60. <span style=white-space:pre-wrap>'Smiths Crinkle Cut  Chips Original 170g'</span>\n",
       "61. <span style=white-space:pre-wrap>'Cobs Popd Sea Salt  Chips 110g'</span>\n",
       "62. <span style=white-space:pre-wrap>'Smiths Crinkle Cut  Chips Chs&amp;Onion170g'</span>\n",
       "63. 'French Fries Potato Chips 175g'\n",
       "64. <span style=white-space:pre-wrap>'Old El Paso Salsa   Dip Tomato Med 300g'</span>\n",
       "65. <span style=white-space:pre-wrap>'Doritos Corn Chips  Cheese Supreme 170g'</span>\n",
       "66. <span style=white-space:pre-wrap>'Pringles Original   Crisps 134g'</span>\n",
       "67. <span style=white-space:pre-wrap>'RRD Chilli&amp;         Coconut 150g'</span>\n",
       "68. <span style=white-space:pre-wrap>'WW Original Corn    Chips 200g'</span>\n",
       "69. <span style=white-space:pre-wrap>'Thins Potato Chips  Hot &amp; Spicy 175g'</span>\n",
       "70. <span style=white-space:pre-wrap>'Cobs Popd Sour Crm  &amp;Chives Chips 110g'</span>\n",
       "71. <span style=white-space:pre-wrap>'Smiths Crnkle Chip  Orgnl Big Bag 380g'</span>\n",
       "72. <span style=white-space:pre-wrap>'Doritos Corn Chips  Nacho Cheese 170g'</span>\n",
       "73. <span style=white-space:pre-wrap>'Kettle Sensations   BBQ&amp;Maple 150g'</span>\n",
       "74. <span style=white-space:pre-wrap>'WW D/Style Chip     Sea Salt 200g'</span>\n",
       "75. <span style=white-space:pre-wrap>'Pringles Chicken    Salt Crips 134g'</span>\n",
       "76. 'WW Original Stacked Chips 160g'\n",
       "77. <span style=white-space:pre-wrap>'Smiths Chip Thinly  CutSalt/Vinegr175g'</span>\n",
       "78. 'Cheezels Cheese 330g'\n",
       "79. <span style=white-space:pre-wrap>'Tostitos Lightly    Salted 175g'</span>\n",
       "80. <span style=white-space:pre-wrap>'Thins Chips Salt &amp;  Vinegar 175g'</span>\n",
       "81. <span style=white-space:pre-wrap>'Smiths Crinkle Cut  Chips Barbecue 170g'</span>\n",
       "82. 'Cheetos Puffs 165g'\n",
       "83. <span style=white-space:pre-wrap>'RRD Sweet Chilli &amp;  Sour Cream 165g'</span>\n",
       "84. <span style=white-space:pre-wrap>'WW Crinkle Cut      Original 175g'</span>\n",
       "85. <span style=white-space:pre-wrap>'Tostitos Splash Of  Lime 175g'</span>\n",
       "86. <span style=white-space:pre-wrap>'Woolworths Medium   Salsa 300g'</span>\n",
       "87. 'Kettle Tortilla ChpsBtroot&amp;Ricotta 150g'\n",
       "88. <span style=white-space:pre-wrap>'CCs Tasty Cheese    175g'</span>\n",
       "89. <span style=white-space:pre-wrap>'Woolworths Cheese   Rings 190g'</span>\n",
       "90. <span style=white-space:pre-wrap>'Tostitos Smoked     Chipotle 175g'</span>\n",
       "91. <span style=white-space:pre-wrap>'Pringles Barbeque   134g'</span>\n",
       "92. <span style=white-space:pre-wrap>'WW Supreme Cheese   Corn Chips 200g'</span>\n",
       "93. <span style=white-space:pre-wrap>'Pringles Mystery    Flavour 134g'</span>\n",
       "94. <span style=white-space:pre-wrap>'Tyrrells Crisps     Ched &amp; Chives 165g'</span>\n",
       "95. 'Snbts Whlgrn Crisps Cheddr&amp;Mstrd 90g'\n",
       "96. 'Cheetos Chs &amp; Bacon Balls 190g'\n",
       "97. 'Pringles Slt Vingar 134g'\n",
       "98. 'Infuzions SourCream&amp;Herbs Veg Strws 110g'\n",
       "99. 'Kettle Tortilla ChpsFeta&amp;Garlic 150g'\n",
       "100. <span style=white-space:pre-wrap>'Infuzions Mango     Chutny Papadums 70g'</span>\n",
       "101. <span style=white-space:pre-wrap>'RRD Steak &amp;         Chimuchurri 150g'</span>\n",
       "102. <span style=white-space:pre-wrap>'RRD Honey Soy       Chicken 165g'</span>\n",
       "103. <span style=white-space:pre-wrap>'Sunbites Whlegrn    Crisps Frch/Onin 90g'</span>\n",
       "104. <span style=white-space:pre-wrap>'RRD Salt &amp; Vinegar  165g'</span>\n",
       "105. <span style=white-space:pre-wrap>'Doritos Cheese      Supreme 330g'</span>\n",
       "106. <span style=white-space:pre-wrap>'Smiths Crinkle Cut  Snag&amp;Sauce 150g'</span>\n",
       "107. 'WW Sour Cream &amp;OnionStacked Chips 160g'\n",
       "108. <span style=white-space:pre-wrap>'RRD Lime &amp; Pepper   165g'</span>\n",
       "109. <span style=white-space:pre-wrap>'Natural ChipCo Sea  Salt &amp; Vinegr 175g'</span>\n",
       "110. 'Red Rock Deli Chikn&amp;Garlic Aioli 150g'\n",
       "111. <span style=white-space:pre-wrap>'RRD SR Slow Rst     Pork Belly 150g'</span>\n",
       "112. <span style=white-space:pre-wrap>'RRD Pc Sea Salt     165g'</span>\n",
       "113. <span style=white-space:pre-wrap>'Smith Crinkle Cut   Bolognese 150g'</span>\n",
       "114. <span style=white-space:pre-wrap>'Doritos Salsa Mild  300g'</span>\n",
       "\n",
       "\n"
      ],
      "text/plain": [
       "  [1] \"Natural Chip        Compny SeaSalt175g\"  \n",
       "  [2] \"CCs Nacho Cheese    175g\"                \n",
       "  [3] \"Smiths Crinkle Cut  Chips Chicken 170g\"  \n",
       "  [4] \"Smiths Chip Thinly  S/Cream&Onion 175g\"  \n",
       "  [5] \"Kettle Tortilla ChpsHny&Jlpno Chili 150g\"\n",
       "  [6] \"Old El Paso Salsa   Dip Tomato Mild 300g\"\n",
       "  [7] \"Smiths Crinkle Chips Salt & Vinegar 330g\"\n",
       "  [8] \"Grain Waves         Sweet Chilli 210g\"   \n",
       "  [9] \"Doritos Corn Chip Mexican Jalapeno 150g\" \n",
       " [10] \"Grain Waves Sour    Cream&Chives 210G\"   \n",
       " [11] \"Kettle Sensations   Siracha Lime 150g\"   \n",
       " [12] \"Twisties Cheese     270g\"                \n",
       " [13] \"WW Crinkle Cut      Chicken 175g\"        \n",
       " [14] \"Thins Chips Light&  Tangy 175g\"          \n",
       " [15] \"CCs Original 175g\"                       \n",
       " [16] \"Burger Rings 220g\"                       \n",
       " [17] \"NCC Sour Cream &    Garden Chives 175g\"  \n",
       " [18] \"Doritos Corn Chip Southern Chicken 150g\" \n",
       " [19] \"Cheezels Cheese Box 125g\"                \n",
       " [20] \"Smiths Crinkle      Original 330g\"       \n",
       " [21] \"Infzns Crn Crnchers Tangy Gcamole 110g\"  \n",
       " [22] \"Kettle Sea Salt     And Vinegar 175g\"    \n",
       " [23] \"Smiths Chip Thinly  Cut Original 175g\"   \n",
       " [24] \"Kettle Original 175g\"                    \n",
       " [25] \"Red Rock Deli Thai  Chilli&Lime 150g\"    \n",
       " [26] \"Pringles Sthrn FriedChicken 134g\"        \n",
       " [27] \"Pringles Sweet&Spcy BBQ 134g\"            \n",
       " [28] \"Red Rock Deli SR    Salsa & Mzzrlla 150g\"\n",
       " [29] \"Thins Chips         Originl saltd 175g\"  \n",
       " [30] \"Red Rock Deli Sp    Salt & Truffle 150G\" \n",
       " [31] \"Smiths Thinly       Swt Chli&S/Cream175G\"\n",
       " [32] \"Kettle Chilli 175g\"                      \n",
       " [33] \"Doritos Mexicana    170g\"                \n",
       " [34] \"Smiths Crinkle Cut  French OnionDip 150g\"\n",
       " [35] \"Natural ChipCo      Hony Soy Chckn175g\"  \n",
       " [36] \"Dorito Corn Chp     Supreme 380g\"        \n",
       " [37] \"Twisties Chicken270g\"                    \n",
       " [38] \"Smiths Thinly Cut   Roast Chicken 175g\"  \n",
       " [39] \"Smiths Crinkle Cut  Tomato Salsa 150g\"   \n",
       " [40] \"Kettle Mozzarella   Basil & Pesto 175g\"  \n",
       " [41] \"Infuzions Thai SweetChili PotatoMix 110g\"\n",
       " [42] \"Kettle Sensations   Camembert & Fig 150g\"\n",
       " [43] \"Smith Crinkle Cut   Mac N Cheese 150g\"   \n",
       " [44] \"Kettle Honey Soy    Chicken 175g\"        \n",
       " [45] \"Thins Chips Seasonedchicken 175g\"        \n",
       " [46] \"Smiths Crinkle Cut  Salt & Vinegar 170g\" \n",
       " [47] \"Infuzions BBQ Rib   Prawn Crackers 110g\" \n",
       " [48] \"GrnWves Plus Btroot & Chilli Jam 180g\"   \n",
       " [49] \"Tyrrells Crisps     Lightly Salted 165g\" \n",
       " [50] \"Kettle Sweet Chilli And Sour Cream 175g\" \n",
       " [51] \"Doritos Salsa       Medium 300g\"         \n",
       " [52] \"Kettle 135g Swt Pot Sea Salt\"            \n",
       " [53] \"Pringles SourCream  Onion 134g\"          \n",
       " [54] \"Doritos Corn Chips  Original 170g\"       \n",
       " [55] \"Twisties Cheese     Burger 250g\"         \n",
       " [56] \"Old El Paso Salsa   Dip Chnky Tom Ht300g\"\n",
       " [57] \"Cobs Popd Swt/Chlli &Sr/Cream Chips 110g\"\n",
       " [58] \"Woolworths Mild     Salsa 300g\"          \n",
       " [59] \"Natural Chip Co     Tmato Hrb&Spce 175g\" \n",
       " [60] \"Smiths Crinkle Cut  Chips Original 170g\" \n",
       " [61] \"Cobs Popd Sea Salt  Chips 110g\"          \n",
       " [62] \"Smiths Crinkle Cut  Chips Chs&Onion170g\" \n",
       " [63] \"French Fries Potato Chips 175g\"          \n",
       " [64] \"Old El Paso Salsa   Dip Tomato Med 300g\" \n",
       " [65] \"Doritos Corn Chips  Cheese Supreme 170g\" \n",
       " [66] \"Pringles Original   Crisps 134g\"         \n",
       " [67] \"RRD Chilli&         Coconut 150g\"        \n",
       " [68] \"WW Original Corn    Chips 200g\"          \n",
       " [69] \"Thins Potato Chips  Hot & Spicy 175g\"    \n",
       " [70] \"Cobs Popd Sour Crm  &Chives Chips 110g\"  \n",
       " [71] \"Smiths Crnkle Chip  Orgnl Big Bag 380g\"  \n",
       " [72] \"Doritos Corn Chips  Nacho Cheese 170g\"   \n",
       " [73] \"Kettle Sensations   BBQ&Maple 150g\"      \n",
       " [74] \"WW D/Style Chip     Sea Salt 200g\"       \n",
       " [75] \"Pringles Chicken    Salt Crips 134g\"     \n",
       " [76] \"WW Original Stacked Chips 160g\"          \n",
       " [77] \"Smiths Chip Thinly  CutSalt/Vinegr175g\"  \n",
       " [78] \"Cheezels Cheese 330g\"                    \n",
       " [79] \"Tostitos Lightly    Salted 175g\"         \n",
       " [80] \"Thins Chips Salt &  Vinegar 175g\"        \n",
       " [81] \"Smiths Crinkle Cut  Chips Barbecue 170g\" \n",
       " [82] \"Cheetos Puffs 165g\"                      \n",
       " [83] \"RRD Sweet Chilli &  Sour Cream 165g\"     \n",
       " [84] \"WW Crinkle Cut      Original 175g\"       \n",
       " [85] \"Tostitos Splash Of  Lime 175g\"           \n",
       " [86] \"Woolworths Medium   Salsa 300g\"          \n",
       " [87] \"Kettle Tortilla ChpsBtroot&Ricotta 150g\" \n",
       " [88] \"CCs Tasty Cheese    175g\"                \n",
       " [89] \"Woolworths Cheese   Rings 190g\"          \n",
       " [90] \"Tostitos Smoked     Chipotle 175g\"       \n",
       " [91] \"Pringles Barbeque   134g\"                \n",
       " [92] \"WW Supreme Cheese   Corn Chips 200g\"     \n",
       " [93] \"Pringles Mystery    Flavour 134g\"        \n",
       " [94] \"Tyrrells Crisps     Ched & Chives 165g\"  \n",
       " [95] \"Snbts Whlgrn Crisps Cheddr&Mstrd 90g\"    \n",
       " [96] \"Cheetos Chs & Bacon Balls 190g\"          \n",
       " [97] \"Pringles Slt Vingar 134g\"                \n",
       " [98] \"Infuzions SourCream&Herbs Veg Strws 110g\"\n",
       " [99] \"Kettle Tortilla ChpsFeta&Garlic 150g\"    \n",
       "[100] \"Infuzions Mango     Chutny Papadums 70g\" \n",
       "[101] \"RRD Steak &         Chimuchurri 150g\"    \n",
       "[102] \"RRD Honey Soy       Chicken 165g\"        \n",
       "[103] \"Sunbites Whlegrn    Crisps Frch/Onin 90g\"\n",
       "[104] \"RRD Salt & Vinegar  165g\"                \n",
       "[105] \"Doritos Cheese      Supreme 330g\"        \n",
       "[106] \"Smiths Crinkle Cut  Snag&Sauce 150g\"     \n",
       "[107] \"WW Sour Cream &OnionStacked Chips 160g\"  \n",
       "[108] \"RRD Lime & Pepper   165g\"                \n",
       "[109] \"Natural ChipCo Sea  Salt & Vinegr 175g\"  \n",
       "[110] \"Red Rock Deli Chikn&Garlic Aioli 150g\"   \n",
       "[111] \"RRD SR Slow Rst     Pork Belly 150g\"     \n",
       "[112] \"RRD Pc Sea Salt     165g\"                \n",
       "[113] \"Smith Crinkle Cut   Bolognese 150g\"      \n",
       "[114] \"Doritos Salsa Mild  300g\"                "
      ]
     },
     "metadata": {},
     "output_type": "display_data"
    }
   ],
   "source": [
    "#examine Product Name\n",
    "summary(transactionData$PROD_NAME)\n",
    "unique(transactionData$PROD_NAME)\n",
    "productWords <- data.table(unlist(strsplit(unique(transactionData$PROD_NAME), \" \")))\n",
    "setnames(productWords, 'words')\n"
   ]
  },
  {
   "cell_type": "code",
   "execution_count": 8,
   "id": "89a8b3fb-b1ae-4002-a084-e69c85c21a10",
   "metadata": {},
   "outputs": [
    {
     "name": "stdout",
     "output_type": "stream",
     "text": [
      "         words     N\n",
      "        <char> <int>\n",
      "  1:             234\n",
      "  2:     Chips    21\n",
      "  3:    Smiths    16\n",
      "  4:   Crinkle    14\n",
      "  5:       Cut    14\n",
      " ---                \n",
      "165:       Rst     1\n",
      "166:      Pork     1\n",
      "167:     Belly     1\n",
      "168:        Pc     1\n",
      "169: Bolognese     1\n"
     ]
    }
   ],
   "source": [
    "#removing words with digits or special character and sorting\n",
    "cleaned_words <- productWords[!grepl(\"[^a-zA-Z]\", words)]  \n",
    "word_count <- cleaned_words[, .N, by = words][order(-N)] \n",
    "print(word_count)"
   ]
  },
  {
   "cell_type": "code",
   "execution_count": 9,
   "id": "94735bcd-0cc8-4104-bd93-2972083484cb",
   "metadata": {
    "scrolled": true
   },
   "outputs": [
    {
     "data": {
      "text/plain": [
       "      DATE              STORE_NBR     LYLTY_CARD_NBR        TXN_ID       \n",
       " Min.   :2018-07-01   Min.   :  1.0   Min.   :   1000   Min.   :      1  \n",
       " 1st Qu.:2018-09-30   1st Qu.: 70.0   1st Qu.:  70021   1st Qu.:  67602  \n",
       " Median :2018-12-30   Median :130.0   Median : 130358   Median : 135138  \n",
       " Mean   :2018-12-30   Mean   :135.1   Mean   : 135550   Mean   : 135158  \n",
       " 3rd Qu.:2019-03-31   3rd Qu.:203.0   3rd Qu.: 203094   3rd Qu.: 202701  \n",
       " Max.   :2019-06-30   Max.   :272.0   Max.   :2373711   Max.   :2415841  \n",
       "    PROD_NBR       PROD_NAME            PROD_QTY         TOT_SALES      \n",
       " Min.   :  1.00   Length:264836      Min.   :  1.000   Min.   :  1.500  \n",
       " 1st Qu.: 28.00   Class :character   1st Qu.:  2.000   1st Qu.:  5.400  \n",
       " Median : 56.00   Mode  :character   Median :  2.000   Median :  7.400  \n",
       " Mean   : 56.58                      Mean   :  1.907   Mean   :  7.304  \n",
       " 3rd Qu.: 85.00                      3rd Qu.:  2.000   3rd Qu.:  9.200  \n",
       " Max.   :114.00                      Max.   :200.000   Max.   :650.000  \n",
       "   PACK_SIZE    \n",
       " Min.   : 70.0  \n",
       " 1st Qu.:150.0  \n",
       " Median :170.0  \n",
       " Mean   :182.4  \n",
       " 3rd Qu.:175.0  \n",
       " Max.   :380.0  "
      ]
     },
     "metadata": {},
     "output_type": "display_data"
    }
   ],
   "source": [
    "#summary of the transaction Data\n",
    "summary(transactionData)"
   ]
  },
  {
   "cell_type": "code",
   "execution_count": 10,
   "id": "682b2c86-661d-4bb5-a4a2-b18172c173f2",
   "metadata": {},
   "outputs": [],
   "source": [
    "#checking for outliers\n",
    "outliers <- transactionData[transactionData$PROD_QTY == 200, ]\n"
   ]
  },
  {
   "cell_type": "code",
   "execution_count": 11,
   "id": "d245570d-6982-4357-ad93-94d8c00f0868",
   "metadata": {},
   "outputs": [],
   "source": [
    "#filtering out customer based on loyalty card number\n",
    "\n",
    "transactionData <- transactionData[transactionData$LYLTY_CARD_NBR != \"customer_number_to_remove\", ]\n"
   ]
  },
  {
   "cell_type": "code",
   "execution_count": 12,
   "id": "0cc11e3c-5ca1-454e-8adc-97d1d44e379a",
   "metadata": {
    "scrolled": true
   },
   "outputs": [
    {
     "data": {
      "text/html": [
       "<table class=\"dataframe\">\n",
       "<caption>A data.table: 6 × 2</caption>\n",
       "<thead>\n",
       "\t<tr><th scope=col>DATE</th><th scope=col>Count</th></tr>\n",
       "\t<tr><th scope=col>&lt;date&gt;</th><th scope=col>&lt;int&gt;</th></tr>\n",
       "</thead>\n",
       "<tbody>\n",
       "\t<tr><td>2018-10-17</td><td>732</td></tr>\n",
       "\t<tr><td>2019-05-14</td><td>758</td></tr>\n",
       "\t<tr><td>2019-05-20</td><td>755</td></tr>\n",
       "\t<tr><td>2018-08-17</td><td>711</td></tr>\n",
       "\t<tr><td>2018-08-18</td><td>737</td></tr>\n",
       "\t<tr><td>2019-05-19</td><td>779</td></tr>\n",
       "</tbody>\n",
       "</table>\n"
      ],
      "text/latex": [
       "A data.table: 6 × 2\n",
       "\\begin{tabular}{ll}\n",
       " DATE & Count\\\\\n",
       " <date> & <int>\\\\\n",
       "\\hline\n",
       "\t 2018-10-17 & 732\\\\\n",
       "\t 2019-05-14 & 758\\\\\n",
       "\t 2019-05-20 & 755\\\\\n",
       "\t 2018-08-17 & 711\\\\\n",
       "\t 2018-08-18 & 737\\\\\n",
       "\t 2019-05-19 & 779\\\\\n",
       "\\end{tabular}\n"
      ],
      "text/markdown": [
       "\n",
       "A data.table: 6 × 2\n",
       "\n",
       "| DATE &lt;date&gt; | Count &lt;int&gt; |\n",
       "|---|---|\n",
       "| 2018-10-17 | 732 |\n",
       "| 2019-05-14 | 758 |\n",
       "| 2019-05-20 | 755 |\n",
       "| 2018-08-17 | 711 |\n",
       "| 2018-08-18 | 737 |\n",
       "| 2019-05-19 | 779 |\n",
       "\n"
      ],
      "text/plain": [
       "  DATE       Count\n",
       "1 2018-10-17 732  \n",
       "2 2019-05-14 758  \n",
       "3 2019-05-20 755  \n",
       "4 2018-08-17 711  \n",
       "5 2018-08-18 737  \n",
       "6 2019-05-19 779  "
      ]
     },
     "metadata": {},
     "output_type": "display_data"
    },
    {
     "data": {
      "text/plain": [
       "      DATE                Count      \n",
       " Min.   :2018-07-01   Min.   :648.0  \n",
       " 1st Qu.:2018-09-29   1st Qu.:706.8  \n",
       " Median :2018-12-30   Median :724.0  \n",
       " Mean   :2018-12-30   Mean   :727.6  \n",
       " 3rd Qu.:2019-03-31   3rd Qu.:744.2  \n",
       " Max.   :2019-06-30   Max.   :939.0  "
      ]
     },
     "metadata": {},
     "output_type": "display_data"
    }
   ],
   "source": [
    "#counting the number of transactions by date\n",
    "transactionData[, DATE := as.Date(DATE, origin = \"1899-12-30\")]\n",
    "transactions_by_day <- transactionData[, .(Count = .N), by = DATE]\n",
    "head(transactions_by_day)\n",
    "summary(transactions_by_day)"
   ]
  },
  {
   "cell_type": "code",
   "execution_count": 13,
   "id": "c7ef01ab-2204-4f20-b601-7801c9fc5495",
   "metadata": {},
   "outputs": [
    {
     "data": {
      "image/png": "[encoded data removed]",
      "text/plain": [
       "plot without title"
      ]
     },
     "metadata": {
      "image/png": {
       "height": 420,
       "width": 420
      }
     },
     "output_type": "display_data"
    }
   ],
   "source": [
    "#creating sequence of dates andplotting graph of transaction over time\n",
    "\n",
    "# #### Setting plot themes to format graphs\n",
    "theme_set(theme_bw()) \n",
    "theme_update(plot.title = element_text(hjust = 0.5))\n",
    "\n",
    "\n",
    "transactions_by_day <- transactionData[, .N, by = DATE]\n",
    "ggplot(transactions_by_day, aes(x = DATE, y = N)) +\n",
    "  geom_line() +\n",
    "  labs(x = \"Day\", y = \"Number of transactions\", title = \"Transactions over time\") +\n",
    "  scale_x_date(breaks = \"1 month\") +\n",
    "  theme(axis.text.x = element_text(angle = 90, vjust = 0.5))\n"
   ]
  },
  {
   "cell_type": "code",
   "execution_count": 14,
   "id": "789840ab-1817-4117-b121-f29acfee7e06",
   "metadata": {},
   "outputs": [
    {
     "data": {
      "image/png": "[encoded data removed]",
      "text/plain": [
       "plot without title"
      ]
     },
     "metadata": {
      "image/png": {
       "height": 420,
       "width": 420
      }
     },
     "output_type": "display_data"
    }
   ],
   "source": [
    "# Filter for December transactions\n",
    "december_transactions <- transactionData[month(DATE) == 12]\n",
    "\n",
    "\n",
    "# Calculate number of transactions by day in December\n",
    "transactions_by_day_dec <- december_transactions[, .(Count = .N), by = DATE]\n",
    "\n",
    "# Plot the transactions for each day in December\n",
    "ggplot(transactions_by_day_dec, aes(x = DATE, y = Count)) +\n",
    "  geom_line(color = \"Green\") +\n",
    "  labs(title = \"Number of Transactions per Day in December\",\n",
    "       x = \"Date\",\n",
    "       y = \"Number of Transactions\") +\n",
    "scale_x_date(breaks = \"5 day\") + \n",
    "\n",
    "  theme_minimal()"
   ]
  },
  {
   "cell_type": "code",
   "execution_count": 15,
   "id": "60b0ce4c-baf3-4ceb-93df-86adc005d0b3",
   "metadata": {
    "scrolled": true
   },
   "outputs": [
    {
     "data": {
      "text/html": [
       "<table class=\"dataframe\">\n",
       "<caption>A data.table: 21 × 2</caption>\n",
       "<thead>\n",
       "\t<tr><th scope=col>PACK_SIZE</th><th scope=col>N</th></tr>\n",
       "\t<tr><th scope=col>&lt;dbl&gt;</th><th scope=col>&lt;int&gt;</th></tr>\n",
       "</thead>\n",
       "<tbody>\n",
       "\t<tr><td> 70</td><td> 1507</td></tr>\n",
       "\t<tr><td> 90</td><td> 3008</td></tr>\n",
       "\t<tr><td>110</td><td>22387</td></tr>\n",
       "\t<tr><td>125</td><td> 1454</td></tr>\n",
       "\t<tr><td>134</td><td>25102</td></tr>\n",
       "\t<tr><td>135</td><td> 3257</td></tr>\n",
       "\t<tr><td>150</td><td>43131</td></tr>\n",
       "\t<tr><td>160</td><td> 2970</td></tr>\n",
       "\t<tr><td>165</td><td>15297</td></tr>\n",
       "\t<tr><td>170</td><td>19983</td></tr>\n",
       "\t<tr><td>175</td><td>66390</td></tr>\n",
       "\t<tr><td>180</td><td> 1468</td></tr>\n",
       "\t<tr><td>190</td><td> 2995</td></tr>\n",
       "\t<tr><td>200</td><td> 4473</td></tr>\n",
       "\t<tr><td>210</td><td> 6272</td></tr>\n",
       "\t<tr><td>220</td><td> 1564</td></tr>\n",
       "\t<tr><td>250</td><td> 3169</td></tr>\n",
       "\t<tr><td>270</td><td> 6285</td></tr>\n",
       "\t<tr><td>300</td><td>15166</td></tr>\n",
       "\t<tr><td>330</td><td>12540</td></tr>\n",
       "\t<tr><td>380</td><td> 6418</td></tr>\n",
       "</tbody>\n",
       "</table>\n"
      ],
      "text/latex": [
       "A data.table: 21 × 2\n",
       "\\begin{tabular}{ll}\n",
       " PACK\\_SIZE & N\\\\\n",
       " <dbl> & <int>\\\\\n",
       "\\hline\n",
       "\t  70 &  1507\\\\\n",
       "\t  90 &  3008\\\\\n",
       "\t 110 & 22387\\\\\n",
       "\t 125 &  1454\\\\\n",
       "\t 134 & 25102\\\\\n",
       "\t 135 &  3257\\\\\n",
       "\t 150 & 43131\\\\\n",
       "\t 160 &  2970\\\\\n",
       "\t 165 & 15297\\\\\n",
       "\t 170 & 19983\\\\\n",
       "\t 175 & 66390\\\\\n",
       "\t 180 &  1468\\\\\n",
       "\t 190 &  2995\\\\\n",
       "\t 200 &  4473\\\\\n",
       "\t 210 &  6272\\\\\n",
       "\t 220 &  1564\\\\\n",
       "\t 250 &  3169\\\\\n",
       "\t 270 &  6285\\\\\n",
       "\t 300 & 15166\\\\\n",
       "\t 330 & 12540\\\\\n",
       "\t 380 &  6418\\\\\n",
       "\\end{tabular}\n"
      ],
      "text/markdown": [
       "\n",
       "A data.table: 21 × 2\n",
       "\n",
       "| PACK_SIZE &lt;dbl&gt; | N &lt;int&gt; |\n",
       "|---|---|\n",
       "|  70 |  1507 |\n",
       "|  90 |  3008 |\n",
       "| 110 | 22387 |\n",
       "| 125 |  1454 |\n",
       "| 134 | 25102 |\n",
       "| 135 |  3257 |\n",
       "| 150 | 43131 |\n",
       "| 160 |  2970 |\n",
       "| 165 | 15297 |\n",
       "| 170 | 19983 |\n",
       "| 175 | 66390 |\n",
       "| 180 |  1468 |\n",
       "| 190 |  2995 |\n",
       "| 200 |  4473 |\n",
       "| 210 |  6272 |\n",
       "| 220 |  1564 |\n",
       "| 250 |  3169 |\n",
       "| 270 |  6285 |\n",
       "| 300 | 15166 |\n",
       "| 330 | 12540 |\n",
       "| 380 |  6418 |\n",
       "\n"
      ],
      "text/plain": [
       "   PACK_SIZE N    \n",
       "1   70        1507\n",
       "2   90        3008\n",
       "3  110       22387\n",
       "4  125        1454\n",
       "5  134       25102\n",
       "6  135        3257\n",
       "7  150       43131\n",
       "8  160        2970\n",
       "9  165       15297\n",
       "10 170       19983\n",
       "11 175       66390\n",
       "12 180        1468\n",
       "13 190        2995\n",
       "14 200        4473\n",
       "15 210        6272\n",
       "16 220        1564\n",
       "17 250        3169\n",
       "18 270        6285\n",
       "19 300       15166\n",
       "20 330       12540\n",
       "21 380        6418"
      ]
     },
     "metadata": {},
     "output_type": "display_data"
    },
    {
     "data": {
      "image/png": "[encoded data removed]",
      "text/plain": [
       "plot without title"
      ]
     },
     "metadata": {
      "image/png": {
       "height": 420,
       "width": 420
      }
     },
     "output_type": "display_data"
    }
   ],
   "source": [
    "#Branding Features\n",
    "\n",
    "\n",
    "#Extract pack size\n",
    "transactionData[, PACK_SIZE := parse_number(PROD_NAME)]\n",
    "transactionData[, .N, PACK_SIZE][order(PACK_SIZE)]\n",
    "#The largest size is 380g and the smallest size is 70g\n",
    "\n",
    "#Histogramof Pack Size\n",
    "ggplot(transactionData, aes(x = PACK_SIZE)) +\n",
    "  geom_histogram(binwidth = 1, fill = \"blue\", color = \"black\") +  \n",
    "  labs(title = \"Distribution of Transactions by Pack Size\", \n",
    "       x = \"Pack Size\", \n",
    "       y = \"Number of Transactions\") +\n",
    "  theme_minimal()\n"
   ]
  },
  {
   "cell_type": "code",
   "execution_count": 16,
   "id": "e64531fa-0231-4d13-b663-799db17e57bd",
   "metadata": {
    "scrolled": true
   },
   "outputs": [
    {
     "data": {
      "text/html": [
       "<table class=\"dataframe\">\n",
       "<caption>A data.table: 6 × 2</caption>\n",
       "<thead>\n",
       "\t<tr><th scope=col>PROD_NAME</th><th scope=col>BRAND</th></tr>\n",
       "\t<tr><th scope=col>&lt;chr&gt;</th><th scope=col>&lt;chr&gt;</th></tr>\n",
       "</thead>\n",
       "<tbody>\n",
       "\t<tr><td>Natural Chip        Compny SeaSalt175g  </td><td>Natural</td></tr>\n",
       "\t<tr><td>CCs Nacho Cheese    175g                </td><td>CCs    </td></tr>\n",
       "\t<tr><td>Smiths Crinkle Cut  Chips Chicken 170g  </td><td>Smiths </td></tr>\n",
       "\t<tr><td><span style=white-space:pre-wrap>Smiths Chip Thinly  S/Cream&amp;Onion 175g  </span></td><td>Smiths </td></tr>\n",
       "\t<tr><td>Kettle Tortilla ChpsHny&amp;Jlpno Chili 150g</td><td>Kettle </td></tr>\n",
       "\t<tr><td>Old El Paso Salsa   Dip Tomato Mild 300g</td><td>Old    </td></tr>\n",
       "</tbody>\n",
       "</table>\n"
      ],
      "text/latex": [
       "A data.table: 6 × 2\n",
       "\\begin{tabular}{ll}\n",
       " PROD\\_NAME & BRAND\\\\\n",
       " <chr> & <chr>\\\\\n",
       "\\hline\n",
       "\t Natural Chip        Compny SeaSalt175g   & Natural\\\\\n",
       "\t CCs Nacho Cheese    175g                 & CCs    \\\\\n",
       "\t Smiths Crinkle Cut  Chips Chicken 170g   & Smiths \\\\\n",
       "\t Smiths Chip Thinly  S/Cream\\&Onion 175g   & Smiths \\\\\n",
       "\t Kettle Tortilla ChpsHny\\&Jlpno Chili 150g & Kettle \\\\\n",
       "\t Old El Paso Salsa   Dip Tomato Mild 300g & Old    \\\\\n",
       "\\end{tabular}\n"
      ],
      "text/markdown": [
       "\n",
       "A data.table: 6 × 2\n",
       "\n",
       "| PROD_NAME &lt;chr&gt; | BRAND &lt;chr&gt; |\n",
       "|---|---|\n",
       "| Natural Chip        Compny SeaSalt175g   | Natural |\n",
       "| CCs Nacho Cheese    175g                 | CCs     |\n",
       "| Smiths Crinkle Cut  Chips Chicken 170g   | Smiths  |\n",
       "| Smiths Chip Thinly  S/Cream&amp;Onion 175g   | Smiths  |\n",
       "| Kettle Tortilla ChpsHny&amp;Jlpno Chili 150g | Kettle  |\n",
       "| Old El Paso Salsa   Dip Tomato Mild 300g | Old     |\n",
       "\n"
      ],
      "text/plain": [
       "  PROD_NAME                                BRAND  \n",
       "1 Natural Chip        Compny SeaSalt175g   Natural\n",
       "2 CCs Nacho Cheese    175g                 CCs    \n",
       "3 Smiths Crinkle Cut  Chips Chicken 170g   Smiths \n",
       "4 Smiths Chip Thinly  S/Cream&Onion 175g   Smiths \n",
       "5 Kettle Tortilla ChpsHny&Jlpno Chili 150g Kettle \n",
       "6 Old El Paso Salsa   Dip Tomato Mild 300g Old    "
      ]
     },
     "metadata": {},
     "output_type": "display_data"
    }
   ],
   "source": [
    "#creating brand name\n",
    "transactionData[, BRAND := word(PROD_NAME, 1)]\n",
    "\n",
    "# Check the first few rows to ensure it's created correctly\n",
    "head(transactionData[, .(PROD_NAME, BRAND)])\n",
    "\n"
   ]
  },
  {
   "cell_type": "code",
   "execution_count": 17,
   "id": "a0f89f4f-33f9-4456-9cc0-340b9d5ac774",
   "metadata": {},
   "outputs": [
    {
     "name": "stdout",
     "output_type": "stream",
     "text": [
      " [1] \"NATURAL\"    \"CCs\"        \"SMITHS\"     \"Kettle\"     \"Old\"       \n",
      " [6] \"GRNWVES\"    \"DORITOS\"    \"Twisties\"   \"WOOLWORTHS\" \"Thins\"     \n",
      "[11] \"Burger\"     \"NCC\"        \"Cheezels\"   \"INFUZIONS\"  \"RRD\"       \n",
      "[16] \"Pringles\"   \"Tyrrells\"   \"Cobs\"       \"French\"     \"Tostitos\"  \n",
      "[21] \"Cheetos\"    \"SUNBITES\"  \n"
     ]
    },
    {
     "data": {
      "text/html": [
       "<table class=\"dataframe\">\n",
       "<caption>A data.table: 22 × 2</caption>\n",
       "<thead>\n",
       "\t<tr><th scope=col>BRAND</th><th scope=col>N</th></tr>\n",
       "\t<tr><th scope=col>&lt;chr&gt;</th><th scope=col>&lt;int&gt;</th></tr>\n",
       "</thead>\n",
       "<tbody>\n",
       "\t<tr><td>Burger    </td><td> 1564</td></tr>\n",
       "\t<tr><td>CCs       </td><td> 4551</td></tr>\n",
       "\t<tr><td>Cheetos   </td><td> 2927</td></tr>\n",
       "\t<tr><td>Cheezels  </td><td> 4603</td></tr>\n",
       "\t<tr><td>Cobs      </td><td> 9693</td></tr>\n",
       "\t<tr><td>DORITOS   </td><td>28147</td></tr>\n",
       "\t<tr><td>French    </td><td> 1418</td></tr>\n",
       "\t<tr><td>GRNWVES   </td><td> 7740</td></tr>\n",
       "\t<tr><td>INFUZIONS </td><td>14201</td></tr>\n",
       "\t<tr><td>Kettle    </td><td>41288</td></tr>\n",
       "\t<tr><td>NATURAL   </td><td> 6050</td></tr>\n",
       "\t<tr><td>NCC       </td><td> 1419</td></tr>\n",
       "\t<tr><td>Old       </td><td> 9324</td></tr>\n",
       "\t<tr><td>Pringles  </td><td>25102</td></tr>\n",
       "\t<tr><td>RRD       </td><td>17779</td></tr>\n",
       "\t<tr><td>SMITHS    </td><td>31823</td></tr>\n",
       "\t<tr><td>SUNBITES  </td><td> 3008</td></tr>\n",
       "\t<tr><td>Thins     </td><td>14075</td></tr>\n",
       "\t<tr><td>Tostitos  </td><td> 9471</td></tr>\n",
       "\t<tr><td>Twisties  </td><td> 9454</td></tr>\n",
       "\t<tr><td>Tyrrells  </td><td> 6442</td></tr>\n",
       "\t<tr><td>WOOLWORTHS</td><td>14757</td></tr>\n",
       "</tbody>\n",
       "</table>\n"
      ],
      "text/latex": [
       "A data.table: 22 × 2\n",
       "\\begin{tabular}{ll}\n",
       " BRAND & N\\\\\n",
       " <chr> & <int>\\\\\n",
       "\\hline\n",
       "\t Burger     &  1564\\\\\n",
       "\t CCs        &  4551\\\\\n",
       "\t Cheetos    &  2927\\\\\n",
       "\t Cheezels   &  4603\\\\\n",
       "\t Cobs       &  9693\\\\\n",
       "\t DORITOS    & 28147\\\\\n",
       "\t French     &  1418\\\\\n",
       "\t GRNWVES    &  7740\\\\\n",
       "\t INFUZIONS  & 14201\\\\\n",
       "\t Kettle     & 41288\\\\\n",
       "\t NATURAL    &  6050\\\\\n",
       "\t NCC        &  1419\\\\\n",
       "\t Old        &  9324\\\\\n",
       "\t Pringles   & 25102\\\\\n",
       "\t RRD        & 17779\\\\\n",
       "\t SMITHS     & 31823\\\\\n",
       "\t SUNBITES   &  3008\\\\\n",
       "\t Thins      & 14075\\\\\n",
       "\t Tostitos   &  9471\\\\\n",
       "\t Twisties   &  9454\\\\\n",
       "\t Tyrrells   &  6442\\\\\n",
       "\t WOOLWORTHS & 14757\\\\\n",
       "\\end{tabular}\n"
      ],
      "text/markdown": [
       "\n",
       "A data.table: 22 × 2\n",
       "\n",
       "| BRAND &lt;chr&gt; | N &lt;int&gt; |\n",
       "|---|---|\n",
       "| Burger     |  1564 |\n",
       "| CCs        |  4551 |\n",
       "| Cheetos    |  2927 |\n",
       "| Cheezels   |  4603 |\n",
       "| Cobs       |  9693 |\n",
       "| DORITOS    | 28147 |\n",
       "| French     |  1418 |\n",
       "| GRNWVES    |  7740 |\n",
       "| INFUZIONS  | 14201 |\n",
       "| Kettle     | 41288 |\n",
       "| NATURAL    |  6050 |\n",
       "| NCC        |  1419 |\n",
       "| Old        |  9324 |\n",
       "| Pringles   | 25102 |\n",
       "| RRD        | 17779 |\n",
       "| SMITHS     | 31823 |\n",
       "| SUNBITES   |  3008 |\n",
       "| Thins      | 14075 |\n",
       "| Tostitos   |  9471 |\n",
       "| Twisties   |  9454 |\n",
       "| Tyrrells   |  6442 |\n",
       "| WOOLWORTHS | 14757 |\n",
       "\n"
      ],
      "text/plain": [
       "   BRAND      N    \n",
       "1  Burger      1564\n",
       "2  CCs         4551\n",
       "3  Cheetos     2927\n",
       "4  Cheezels    4603\n",
       "5  Cobs        9693\n",
       "6  DORITOS    28147\n",
       "7  French      1418\n",
       "8  GRNWVES     7740\n",
       "9  INFUZIONS  14201\n",
       "10 Kettle     41288\n",
       "11 NATURAL     6050\n",
       "12 NCC         1419\n",
       "13 Old         9324\n",
       "14 Pringles   25102\n",
       "15 RRD        17779\n",
       "16 SMITHS     31823\n",
       "17 SUNBITES    3008\n",
       "18 Thins      14075\n",
       "19 Tostitos    9471\n",
       "20 Twisties    9454\n",
       "21 Tyrrells    6442\n",
       "22 WOOLWORTHS 14757"
      ]
     },
     "metadata": {},
     "output_type": "display_data"
    }
   ],
   "source": [
    "# Combine similar brand names\n",
    "transactionData[BRAND %in% c(\"Red\", \"RRD\"), BRAND := \"RRD\"]\n",
    "transactionData[BRAND %in% c(\"Snbts\", \"Sunbites\"), BRAND := \"SUNBITES\"]\n",
    "transactionData[BRAND %in% c(\"Infzns\", \"Infuzions\"), BRAND := \"INFUZIONS\"]\n",
    "transactionData[BRAND %in% c(\"Smith\", \"Smiths\"), BRAND := \"SMITHS\"]\n",
    "transactionData[BRAND %in% c(\"NATURAL\", \"Natural\"), BRAND := \"NATURAL\"]\n",
    "transactionData[BRAND %in% c(\"Dorito\", \"Doritos\"), BRAND := \"DORITOS\"]\n",
    "transactionData[BRAND %in% c(\"Grain\", \"GrnWves\"), BRAND := \"GRNWVES\"]\n",
    "transactionData[BRAND %in% c(\"WOOLWORTHS\", \"Woolworths\",\"WW\"), BRAND := \"WOOLWORTHS\"]\n",
    "\n",
    "\n",
    "# Check the unique brand names to ensure they are standardized\n",
    "unique_brands <- unique(transactionData$BRAND)\n",
    "print(unique_brands)\n",
    "transactionData[, .N, by = BRAND][order(BRAND)]\n"
   ]
  },
  {
   "cell_type": "markdown",
   "id": "22cd3419-0d60-4942-b323-747e8d96db6c",
   "metadata": {},
   "source": [
    "### Examining Customer Data"
   ]
  },
  {
   "cell_type": "code",
   "execution_count": 18,
   "id": "b4e301a3-93ef-4449-9a44-7ebb2bb782d5",
   "metadata": {},
   "outputs": [
    {
     "name": "stdout",
     "output_type": "stream",
     "text": [
      "Classes 'data.table' and 'data.frame':\t72637 obs. of  3 variables:\n",
      " $ LYLTY_CARD_NBR  : int  1000 1002 1003 1004 1005 1007 1009 1010 1011 1012 ...\n",
      " $ LIFESTAGE       : chr  \"YOUNG SINGLES/COUPLES\" \"YOUNG SINGLES/COUPLES\" \"YOUNG FAMILIES\" \"OLDER SINGLES/COUPLES\" ...\n",
      " $ PREMIUM_CUSTOMER: chr  \"Premium\" \"Mainstream\" \"Budget\" \"Mainstream\" ...\n",
      " - attr(*, \".internal.selfref\")=<externalptr> \n"
     ]
    }
   ],
   "source": [
    "#Examining customer data\n",
    "str(customerData)\n",
    "\n"
   ]
  },
  {
   "cell_type": "code",
   "execution_count": 19,
   "id": "6eb9a1fc-c441-473c-8b01-ee7cd16899c9",
   "metadata": {
    "scrolled": true
   },
   "outputs": [
    {
     "data": {
      "text/plain": [
       " LYLTY_CARD_NBR     LIFESTAGE         PREMIUM_CUSTOMER  \n",
       " Min.   :   1000   Length:72637       Length:72637      \n",
       " 1st Qu.:  66202   Class :character   Class :character  \n",
       " Median : 134040   Mode  :character   Mode  :character  \n",
       " Mean   : 136186                                        \n",
       " 3rd Qu.: 203375                                        \n",
       " Max.   :2373711                                        "
      ]
     },
     "metadata": {},
     "output_type": "display_data"
    }
   ],
   "source": [
    "# Summary statistics for numeric columns\n",
    "summary(customerData)\n"
   ]
  },
  {
   "cell_type": "markdown",
   "id": "c16dffa8-8d81-41f6-8820-f411493b2e94",
   "metadata": {},
   "source": [
    "Let's a closer look at the LIFESTAGE and PREMIUM_CUSTOMER columns"
   ]
  },
  {
   "cell_type": "code",
   "execution_count": 20,
   "id": "9d5d75fa-ce93-46ef-9606-52081dc0385d",
   "metadata": {},
   "outputs": [
    {
     "data": {
      "text/html": [
       "<table class=\"dataframe\">\n",
       "<caption>A data.table: 72637 × 2</caption>\n",
       "<thead>\n",
       "\t<tr><th scope=col>LYLTY_CARD_NBR</th><th scope=col>N</th></tr>\n",
       "\t<tr><th scope=col>&lt;int&gt;</th><th scope=col>&lt;int&gt;</th></tr>\n",
       "</thead>\n",
       "<tbody>\n",
       "\t<tr><td>1000</td><td>1</td></tr>\n",
       "\t<tr><td>1002</td><td>1</td></tr>\n",
       "\t<tr><td>1003</td><td>1</td></tr>\n",
       "\t<tr><td>1004</td><td>1</td></tr>\n",
       "\t<tr><td>1005</td><td>1</td></tr>\n",
       "\t<tr><td>1007</td><td>1</td></tr>\n",
       "\t<tr><td>1009</td><td>1</td></tr>\n",
       "\t<tr><td>1010</td><td>1</td></tr>\n",
       "\t<tr><td>1011</td><td>1</td></tr>\n",
       "\t<tr><td>1012</td><td>1</td></tr>\n",
       "\t<tr><td>1013</td><td>1</td></tr>\n",
       "\t<tr><td>1016</td><td>1</td></tr>\n",
       "\t<tr><td>1018</td><td>1</td></tr>\n",
       "\t<tr><td>1019</td><td>1</td></tr>\n",
       "\t<tr><td>1020</td><td>1</td></tr>\n",
       "\t<tr><td>1022</td><td>1</td></tr>\n",
       "\t<tr><td>1023</td><td>1</td></tr>\n",
       "\t<tr><td>1024</td><td>1</td></tr>\n",
       "\t<tr><td>1025</td><td>1</td></tr>\n",
       "\t<tr><td>1026</td><td>1</td></tr>\n",
       "\t<tr><td>1027</td><td>1</td></tr>\n",
       "\t<tr><td>1028</td><td>1</td></tr>\n",
       "\t<tr><td>1030</td><td>1</td></tr>\n",
       "\t<tr><td>1034</td><td>1</td></tr>\n",
       "\t<tr><td>1038</td><td>1</td></tr>\n",
       "\t<tr><td>1039</td><td>1</td></tr>\n",
       "\t<tr><td>1042</td><td>1</td></tr>\n",
       "\t<tr><td>1043</td><td>1</td></tr>\n",
       "\t<tr><td>1044</td><td>1</td></tr>\n",
       "\t<tr><td>1046</td><td>1</td></tr>\n",
       "\t<tr><td>⋮</td><td>⋮</td></tr>\n",
       "\t<tr><td> 880171</td><td>1</td></tr>\n",
       "\t<tr><td> 880551</td><td>1</td></tr>\n",
       "\t<tr><td> 880711</td><td>1</td></tr>\n",
       "\t<tr><td> 883791</td><td>1</td></tr>\n",
       "\t<tr><td>2330031</td><td>1</td></tr>\n",
       "\t<tr><td>2330041</td><td>1</td></tr>\n",
       "\t<tr><td>2330051</td><td>1</td></tr>\n",
       "\t<tr><td>2330081</td><td>1</td></tr>\n",
       "\t<tr><td>2330121</td><td>1</td></tr>\n",
       "\t<tr><td>2330171</td><td>1</td></tr>\n",
       "\t<tr><td>2330191</td><td>1</td></tr>\n",
       "\t<tr><td>2330211</td><td>1</td></tr>\n",
       "\t<tr><td>2330251</td><td>1</td></tr>\n",
       "\t<tr><td>2330271</td><td>1</td></tr>\n",
       "\t<tr><td>2330291</td><td>1</td></tr>\n",
       "\t<tr><td>2330311</td><td>1</td></tr>\n",
       "\t<tr><td>2330321</td><td>1</td></tr>\n",
       "\t<tr><td>2330331</td><td>1</td></tr>\n",
       "\t<tr><td>2330431</td><td>1</td></tr>\n",
       "\t<tr><td>2330461</td><td>1</td></tr>\n",
       "\t<tr><td>2330501</td><td>1</td></tr>\n",
       "\t<tr><td>2370001</td><td>1</td></tr>\n",
       "\t<tr><td>2370181</td><td>1</td></tr>\n",
       "\t<tr><td>2370361</td><td>1</td></tr>\n",
       "\t<tr><td>2370581</td><td>1</td></tr>\n",
       "\t<tr><td>2370651</td><td>1</td></tr>\n",
       "\t<tr><td>2370701</td><td>1</td></tr>\n",
       "\t<tr><td>2370751</td><td>1</td></tr>\n",
       "\t<tr><td>2370961</td><td>1</td></tr>\n",
       "\t<tr><td>2373711</td><td>1</td></tr>\n",
       "</tbody>\n",
       "</table>\n"
      ],
      "text/latex": [
       "A data.table: 72637 × 2\n",
       "\\begin{tabular}{ll}\n",
       " LYLTY\\_CARD\\_NBR & N\\\\\n",
       " <int> & <int>\\\\\n",
       "\\hline\n",
       "\t 1000 & 1\\\\\n",
       "\t 1002 & 1\\\\\n",
       "\t 1003 & 1\\\\\n",
       "\t 1004 & 1\\\\\n",
       "\t 1005 & 1\\\\\n",
       "\t 1007 & 1\\\\\n",
       "\t 1009 & 1\\\\\n",
       "\t 1010 & 1\\\\\n",
       "\t 1011 & 1\\\\\n",
       "\t 1012 & 1\\\\\n",
       "\t 1013 & 1\\\\\n",
       "\t 1016 & 1\\\\\n",
       "\t 1018 & 1\\\\\n",
       "\t 1019 & 1\\\\\n",
       "\t 1020 & 1\\\\\n",
       "\t 1022 & 1\\\\\n",
       "\t 1023 & 1\\\\\n",
       "\t 1024 & 1\\\\\n",
       "\t 1025 & 1\\\\\n",
       "\t 1026 & 1\\\\\n",
       "\t 1027 & 1\\\\\n",
       "\t 1028 & 1\\\\\n",
       "\t 1030 & 1\\\\\n",
       "\t 1034 & 1\\\\\n",
       "\t 1038 & 1\\\\\n",
       "\t 1039 & 1\\\\\n",
       "\t 1042 & 1\\\\\n",
       "\t 1043 & 1\\\\\n",
       "\t 1044 & 1\\\\\n",
       "\t 1046 & 1\\\\\n",
       "\t ⋮ & ⋮\\\\\n",
       "\t  880171 & 1\\\\\n",
       "\t  880551 & 1\\\\\n",
       "\t  880711 & 1\\\\\n",
       "\t  883791 & 1\\\\\n",
       "\t 2330031 & 1\\\\\n",
       "\t 2330041 & 1\\\\\n",
       "\t 2330051 & 1\\\\\n",
       "\t 2330081 & 1\\\\\n",
       "\t 2330121 & 1\\\\\n",
       "\t 2330171 & 1\\\\\n",
       "\t 2330191 & 1\\\\\n",
       "\t 2330211 & 1\\\\\n",
       "\t 2330251 & 1\\\\\n",
       "\t 2330271 & 1\\\\\n",
       "\t 2330291 & 1\\\\\n",
       "\t 2330311 & 1\\\\\n",
       "\t 2330321 & 1\\\\\n",
       "\t 2330331 & 1\\\\\n",
       "\t 2330431 & 1\\\\\n",
       "\t 2330461 & 1\\\\\n",
       "\t 2330501 & 1\\\\\n",
       "\t 2370001 & 1\\\\\n",
       "\t 2370181 & 1\\\\\n",
       "\t 2370361 & 1\\\\\n",
       "\t 2370581 & 1\\\\\n",
       "\t 2370651 & 1\\\\\n",
       "\t 2370701 & 1\\\\\n",
       "\t 2370751 & 1\\\\\n",
       "\t 2370961 & 1\\\\\n",
       "\t 2373711 & 1\\\\\n",
       "\\end{tabular}\n"
      ],
      "text/markdown": [
       "\n",
       "A data.table: 72637 × 2\n",
       "\n",
       "| LYLTY_CARD_NBR &lt;int&gt; | N &lt;int&gt; |\n",
       "|---|---|\n",
       "| 1000 | 1 |\n",
       "| 1002 | 1 |\n",
       "| 1003 | 1 |\n",
       "| 1004 | 1 |\n",
       "| 1005 | 1 |\n",
       "| 1007 | 1 |\n",
       "| 1009 | 1 |\n",
       "| 1010 | 1 |\n",
       "| 1011 | 1 |\n",
       "| 1012 | 1 |\n",
       "| 1013 | 1 |\n",
       "| 1016 | 1 |\n",
       "| 1018 | 1 |\n",
       "| 1019 | 1 |\n",
       "| 1020 | 1 |\n",
       "| 1022 | 1 |\n",
       "| 1023 | 1 |\n",
       "| 1024 | 1 |\n",
       "| 1025 | 1 |\n",
       "| 1026 | 1 |\n",
       "| 1027 | 1 |\n",
       "| 1028 | 1 |\n",
       "| 1030 | 1 |\n",
       "| 1034 | 1 |\n",
       "| 1038 | 1 |\n",
       "| 1039 | 1 |\n",
       "| 1042 | 1 |\n",
       "| 1043 | 1 |\n",
       "| 1044 | 1 |\n",
       "| 1046 | 1 |\n",
       "| ⋮ | ⋮ |\n",
       "|  880171 | 1 |\n",
       "|  880551 | 1 |\n",
       "|  880711 | 1 |\n",
       "|  883791 | 1 |\n",
       "| 2330031 | 1 |\n",
       "| 2330041 | 1 |\n",
       "| 2330051 | 1 |\n",
       "| 2330081 | 1 |\n",
       "| 2330121 | 1 |\n",
       "| 2330171 | 1 |\n",
       "| 2330191 | 1 |\n",
       "| 2330211 | 1 |\n",
       "| 2330251 | 1 |\n",
       "| 2330271 | 1 |\n",
       "| 2330291 | 1 |\n",
       "| 2330311 | 1 |\n",
       "| 2330321 | 1 |\n",
       "| 2330331 | 1 |\n",
       "| 2330431 | 1 |\n",
       "| 2330461 | 1 |\n",
       "| 2330501 | 1 |\n",
       "| 2370001 | 1 |\n",
       "| 2370181 | 1 |\n",
       "| 2370361 | 1 |\n",
       "| 2370581 | 1 |\n",
       "| 2370651 | 1 |\n",
       "| 2370701 | 1 |\n",
       "| 2370751 | 1 |\n",
       "| 2370961 | 1 |\n",
       "| 2373711 | 1 |\n",
       "\n"
      ],
      "text/plain": [
       "      LYLTY_CARD_NBR N\n",
       "1     1000           1\n",
       "2     1002           1\n",
       "3     1003           1\n",
       "4     1004           1\n",
       "5     1005           1\n",
       "6     1007           1\n",
       "7     1009           1\n",
       "8     1010           1\n",
       "9     1011           1\n",
       "10    1012           1\n",
       "11    1013           1\n",
       "12    1016           1\n",
       "13    1018           1\n",
       "14    1019           1\n",
       "15    1020           1\n",
       "16    1022           1\n",
       "17    1023           1\n",
       "18    1024           1\n",
       "19    1025           1\n",
       "20    1026           1\n",
       "21    1027           1\n",
       "22    1028           1\n",
       "23    1030           1\n",
       "24    1034           1\n",
       "25    1038           1\n",
       "26    1039           1\n",
       "27    1042           1\n",
       "28    1043           1\n",
       "29    1044           1\n",
       "30    1046           1\n",
       "⋮     ⋮              ⋮\n",
       "72608  880171        1\n",
       "72609  880551        1\n",
       "72610  880711        1\n",
       "72611  883791        1\n",
       "72612 2330031        1\n",
       "72613 2330041        1\n",
       "72614 2330051        1\n",
       "72615 2330081        1\n",
       "72616 2330121        1\n",
       "72617 2330171        1\n",
       "72618 2330191        1\n",
       "72619 2330211        1\n",
       "72620 2330251        1\n",
       "72621 2330271        1\n",
       "72622 2330291        1\n",
       "72623 2330311        1\n",
       "72624 2330321        1\n",
       "72625 2330331        1\n",
       "72626 2330431        1\n",
       "72627 2330461        1\n",
       "72628 2330501        1\n",
       "72629 2370001        1\n",
       "72630 2370181        1\n",
       "72631 2370361        1\n",
       "72632 2370581        1\n",
       "72633 2370651        1\n",
       "72634 2370701        1\n",
       "72635 2370751        1\n",
       "72636 2370961        1\n",
       "72637 2373711        1"
      ]
     },
     "metadata": {},
     "output_type": "display_data"
    }
   ],
   "source": [
    "# Count the number of customers by loyalty card number\n",
    "customerData[, .N, by = LYLTY_CARD_NBR][order(-N)] "
   ]
  },
  {
   "cell_type": "code",
   "execution_count": 21,
   "id": "628a4a86-5fde-4a8c-b8d8-c0243872b3f9",
   "metadata": {
    "scrolled": true
   },
   "outputs": [
    {
     "data": {
      "text/html": [
       "<table class=\"dataframe\">\n",
       "<caption>A data.table: 7 × 2</caption>\n",
       "<thead>\n",
       "\t<tr><th scope=col>LIFESTAGE</th><th scope=col>N</th></tr>\n",
       "\t<tr><th scope=col>&lt;chr&gt;</th><th scope=col>&lt;int&gt;</th></tr>\n",
       "</thead>\n",
       "<tbody>\n",
       "\t<tr><td>RETIREES              </td><td>14805</td></tr>\n",
       "\t<tr><td>OLDER SINGLES/COUPLES </td><td>14609</td></tr>\n",
       "\t<tr><td>YOUNG SINGLES/COUPLES </td><td>14441</td></tr>\n",
       "\t<tr><td>OLDER FAMILIES        </td><td> 9780</td></tr>\n",
       "\t<tr><td>YOUNG FAMILIES        </td><td> 9178</td></tr>\n",
       "\t<tr><td>MIDAGE SINGLES/COUPLES</td><td> 7275</td></tr>\n",
       "\t<tr><td>NEW FAMILIES          </td><td> 2549</td></tr>\n",
       "</tbody>\n",
       "</table>\n"
      ],
      "text/latex": [
       "A data.table: 7 × 2\n",
       "\\begin{tabular}{ll}\n",
       " LIFESTAGE & N\\\\\n",
       " <chr> & <int>\\\\\n",
       "\\hline\n",
       "\t RETIREES               & 14805\\\\\n",
       "\t OLDER SINGLES/COUPLES  & 14609\\\\\n",
       "\t YOUNG SINGLES/COUPLES  & 14441\\\\\n",
       "\t OLDER FAMILIES         &  9780\\\\\n",
       "\t YOUNG FAMILIES         &  9178\\\\\n",
       "\t MIDAGE SINGLES/COUPLES &  7275\\\\\n",
       "\t NEW FAMILIES           &  2549\\\\\n",
       "\\end{tabular}\n"
      ],
      "text/markdown": [
       "\n",
       "A data.table: 7 × 2\n",
       "\n",
       "| LIFESTAGE &lt;chr&gt; | N &lt;int&gt; |\n",
       "|---|---|\n",
       "| RETIREES               | 14805 |\n",
       "| OLDER SINGLES/COUPLES  | 14609 |\n",
       "| YOUNG SINGLES/COUPLES  | 14441 |\n",
       "| OLDER FAMILIES         |  9780 |\n",
       "| YOUNG FAMILIES         |  9178 |\n",
       "| MIDAGE SINGLES/COUPLES |  7275 |\n",
       "| NEW FAMILIES           |  2549 |\n",
       "\n"
      ],
      "text/plain": [
       "  LIFESTAGE              N    \n",
       "1 RETIREES               14805\n",
       "2 OLDER SINGLES/COUPLES  14609\n",
       "3 YOUNG SINGLES/COUPLES  14441\n",
       "4 OLDER FAMILIES          9780\n",
       "5 YOUNG FAMILIES          9178\n",
       "6 MIDAGE SINGLES/COUPLES  7275\n",
       "7 NEW FAMILIES            2549"
      ]
     },
     "metadata": {},
     "output_type": "display_data"
    }
   ],
   "source": [
    "# Frequency distribution of LIFESTAGE\n",
    "customerData[, .N, by = LIFESTAGE][order(-N)]"
   ]
  },
  {
   "cell_type": "code",
   "execution_count": 22,
   "id": "7a21148d-64f1-473d-b18d-8862290a4400",
   "metadata": {},
   "outputs": [
    {
     "data": {
      "text/html": [
       "<table class=\"dataframe\">\n",
       "<caption>A data.table: 3 × 2</caption>\n",
       "<thead>\n",
       "\t<tr><th scope=col>PREMIUM_CUSTOMER</th><th scope=col>N</th></tr>\n",
       "\t<tr><th scope=col>&lt;chr&gt;</th><th scope=col>&lt;int&gt;</th></tr>\n",
       "</thead>\n",
       "<tbody>\n",
       "\t<tr><td>Mainstream</td><td>29245</td></tr>\n",
       "\t<tr><td>Budget    </td><td>24470</td></tr>\n",
       "\t<tr><td>Premium   </td><td>18922</td></tr>\n",
       "</tbody>\n",
       "</table>\n"
      ],
      "text/latex": [
       "A data.table: 3 × 2\n",
       "\\begin{tabular}{ll}\n",
       " PREMIUM\\_CUSTOMER & N\\\\\n",
       " <chr> & <int>\\\\\n",
       "\\hline\n",
       "\t Mainstream & 29245\\\\\n",
       "\t Budget     & 24470\\\\\n",
       "\t Premium    & 18922\\\\\n",
       "\\end{tabular}\n"
      ],
      "text/markdown": [
       "\n",
       "A data.table: 3 × 2\n",
       "\n",
       "| PREMIUM_CUSTOMER &lt;chr&gt; | N &lt;int&gt; |\n",
       "|---|---|\n",
       "| Mainstream | 29245 |\n",
       "| Budget     | 24470 |\n",
       "| Premium    | 18922 |\n",
       "\n"
      ],
      "text/plain": [
       "  PREMIUM_CUSTOMER N    \n",
       "1 Mainstream       29245\n",
       "2 Budget           24470\n",
       "3 Premium          18922"
      ]
     },
     "metadata": {},
     "output_type": "display_data"
    }
   ],
   "source": [
    "# Frequency distribution of PREMIUM_CUSTOMER\n",
    "customerData[, .N, by = PREMIUM_CUSTOMER][order(-N)]\n"
   ]
  },
  {
   "cell_type": "code",
   "execution_count": 23,
   "id": "7dd318cf-869f-4e95-82c9-8fa8844df2a9",
   "metadata": {
    "scrolled": true
   },
   "outputs": [
    {
     "data": {
      "image/png": "[encoded data removed]",
      "text/plain": [
       "plot without title"
      ]
     },
     "metadata": {
      "image/png": {
       "height": 420,
       "width": 420
      }
     },
     "output_type": "display_data"
    }
   ],
   "source": [
    "# Bar plot for LIFESTAGE\n",
    "ggplot(customerData, aes(x = LIFESTAGE)) +\n",
    "    geom_bar() +\n",
    "    labs(title = \"Distribution of Customer Lifestages\", x = \"Lifestage\", y = \"Number of Customers\") +\n",
    "    theme(axis.text.x = element_text(angle = 45, hjust = 1))\n",
    "\n"
   ]
  },
  {
   "cell_type": "code",
   "execution_count": 24,
   "id": "de30f668-963e-400b-9147-8995a13c159a",
   "metadata": {},
   "outputs": [
    {
     "data": {
      "image/png": "[encoded data removed]",
      "text/plain": [
       "plot without title"
      ]
     },
     "metadata": {
      "image/png": {
       "height": 420,
       "width": 420
      }
     },
     "output_type": "display_data"
    }
   ],
   "source": [
    "# Bar plot for PREMIUM_CUSTOMER\n",
    "ggplot(customerData, aes(x = PREMIUM_CUSTOMER)) +\n",
    "    geom_bar() +\n",
    "    labs(title = \"Distribution of Premium Customers\", x = \"Premium Customer Status\", y = \"Number of Customers\")\n"
   ]
  },
  {
   "cell_type": "code",
   "execution_count": 25,
   "id": "a829ead7-cded-43ea-a0c8-2797b4542a02",
   "metadata": {},
   "outputs": [
    {
     "name": "stdout",
     "output_type": "stream",
     "text": [
      "  LYLTY_CARD_NBR        LIFESTAGE PREMIUM_CUSTOMER \n",
      "               0                0                0 \n"
     ]
    }
   ],
   "source": [
    "# Check for missing values in each column\n",
    "missing_values <- sapply(customerData, function(x) sum(is.na(x)))\n",
    "print(missing_values)"
   ]
  },
  {
   "cell_type": "code",
   "execution_count": 26,
   "id": "6f36a353-a2da-4324-98e9-783d9665bc5d",
   "metadata": {
    "scrolled": true
   },
   "outputs": [
    {
     "data": {
      "text/plain": [
       "                        \n",
       "                         Budget Mainstream Premium\n",
       "  MIDAGE SINGLES/COUPLES   1504       3340    2431\n",
       "  NEW FAMILIES             1112        849     588\n",
       "  OLDER FAMILIES           4675       2831    2274\n",
       "  OLDER SINGLES/COUPLES    4929       4930    4750\n",
       "  RETIREES                 4454       6479    3872\n",
       "  YOUNG FAMILIES           4017       2728    2433\n",
       "  YOUNG SINGLES/COUPLES    3779       8088    2574"
      ]
     },
     "metadata": {},
     "output_type": "display_data"
    }
   ],
   "source": [
    "# Cross-tabulation of LIFESTAGE and PREMIUM_CUSTOMER\n",
    "table(customerData$LIFESTAGE, customerData$PREMIUM_CUSTOMER)\n",
    "\n"
   ]
  },
  {
   "cell_type": "code",
   "execution_count": 27,
   "id": "4aadd379-263c-48e1-b214-964dfec2ea03",
   "metadata": {},
   "outputs": [],
   "source": [
    "#merging transaction data to customer data\n",
    "merged_data <- merge(transactionData, customerData, all.x = TRUE)\n"
   ]
  },
  {
   "cell_type": "code",
   "execution_count": 29,
   "id": "1e59f3e8-fe4d-4e53-b481-337782429483",
   "metadata": {},
   "outputs": [],
   "source": [
    "# Check for missing customer details\n",
    "missing_customers <- merged_data[is.na(LIFESTAGE) | is.na(PREMIUM_CUSTOMER), ]\n",
    "\n"
   ]
  },
  {
   "cell_type": "code",
   "execution_count": 30,
   "id": "d22e94eb-52ee-4562-b22a-c93e01ce7ab1",
   "metadata": {
    "scrolled": true
   },
   "outputs": [
    {
     "data": {
      "text/html": [
       "<table class=\"dataframe\">\n",
       "<caption>A data.table: 0 × 12</caption>\n",
       "<thead>\n",
       "\t<tr><th scope=col>LYLTY_CARD_NBR</th><th scope=col>DATE</th><th scope=col>STORE_NBR</th><th scope=col>TXN_ID</th><th scope=col>PROD_NBR</th><th scope=col>PROD_NAME</th><th scope=col>PROD_QTY</th><th scope=col>TOT_SALES</th><th scope=col>PACK_SIZE</th><th scope=col>BRAND</th><th scope=col>LIFESTAGE</th><th scope=col>PREMIUM_CUSTOMER</th></tr>\n",
       "\t<tr><th scope=col>&lt;int&gt;</th><th scope=col>&lt;date&gt;</th><th scope=col>&lt;dbl&gt;</th><th scope=col>&lt;dbl&gt;</th><th scope=col>&lt;dbl&gt;</th><th scope=col>&lt;chr&gt;</th><th scope=col>&lt;dbl&gt;</th><th scope=col>&lt;dbl&gt;</th><th scope=col>&lt;dbl&gt;</th><th scope=col>&lt;chr&gt;</th><th scope=col>&lt;chr&gt;</th><th scope=col>&lt;chr&gt;</th></tr>\n",
       "</thead>\n",
       "<tbody>\n",
       "</tbody>\n",
       "</table>\n"
      ],
      "text/latex": [
       "A data.table: 0 × 12\n",
       "\\begin{tabular}{llllllllllll}\n",
       " LYLTY\\_CARD\\_NBR & DATE & STORE\\_NBR & TXN\\_ID & PROD\\_NBR & PROD\\_NAME & PROD\\_QTY & TOT\\_SALES & PACK\\_SIZE & BRAND & LIFESTAGE & PREMIUM\\_CUSTOMER\\\\\n",
       " <int> & <date> & <dbl> & <dbl> & <dbl> & <chr> & <dbl> & <dbl> & <dbl> & <chr> & <chr> & <chr>\\\\\n",
       "\\hline\n",
       "\\end{tabular}\n"
      ],
      "text/markdown": [
       "\n",
       "A data.table: 0 × 12\n",
       "\n",
       "| LYLTY_CARD_NBR &lt;int&gt; | DATE &lt;date&gt; | STORE_NBR &lt;dbl&gt; | TXN_ID &lt;dbl&gt; | PROD_NBR &lt;dbl&gt; | PROD_NAME &lt;chr&gt; | PROD_QTY &lt;dbl&gt; | TOT_SALES &lt;dbl&gt; | PACK_SIZE &lt;dbl&gt; | BRAND &lt;chr&gt; | LIFESTAGE &lt;chr&gt; | PREMIUM_CUSTOMER &lt;chr&gt; |\n",
       "|---|---|---|---|---|---|---|---|---|---|---|---|\n",
       "\n"
      ],
      "text/plain": [
       "     LYLTY_CARD_NBR DATE STORE_NBR TXN_ID PROD_NBR PROD_NAME PROD_QTY TOT_SALES\n",
       "     PACK_SIZE BRAND LIFESTAGE PREMIUM_CUSTOMER"
      ]
     },
     "metadata": {},
     "output_type": "display_data"
    }
   ],
   "source": [
    "# View the first few rows of missing customers\n",
    "head(missing_customers)\n",
    "\n"
   ]
  },
  {
   "cell_type": "code",
   "execution_count": 31,
   "id": "ad0994f7-a2b0-435c-8c11-cbf3a146a6f2",
   "metadata": {},
   "outputs": [
    {
     "name": "stdout",
     "output_type": "stream",
     "text": [
      "   LIFESTAGE_Missing PREMIUM_CUSTOMER_Missing CUSTOMER_ID_Missing\n",
      "               <int>                    <int>               <int>\n",
      "1:                 0                        0                   0\n"
     ]
    }
   ],
   "source": [
    "# Summary of missing values for each relevant column\n",
    "missing_summary <- data.table(\n",
    "  LIFESTAGE_Missing = sum(is.na(merged_data$LIFESTAGE)),\n",
    "  PREMIUM_CUSTOMER_Missing = sum(is.na(merged_data$PREMIUM_CUSTOMER)),\n",
    "  CUSTOMER_ID_Missing = sum(is.na(merged_data$CUSTOMER_ID)) \n",
    ")\n",
    "\n",
    "# Print the summary\n",
    "print(missing_summary)\n",
    "\n"
   ]
  },
  {
   "cell_type": "markdown",
   "id": "d91579ef-9e8c-483c-84a0-b83825590dc8",
   "metadata": {},
   "source": [
    "Great,there are no nulls! \n",
    "\n",
    "\n",
    "<br>\n",
    "So all our customers in the transaction data has been accounted for in the customer dataset. "
   ]
  },
  {
   "cell_type": "code",
   "execution_count": 32,
   "id": "35dfd1c9-c138-4a4e-ad66-c469c23085c1",
   "metadata": {},
   "outputs": [],
   "source": [
    "# Save the merged dataset as a CSV file\n",
    "fwrite(merged_data, paste0(\"../desktop/QVI_data.csv\"))"
   ]
  },
  {
   "cell_type": "markdown",
   "id": "d8278bd5-753a-45c4-8305-bca9ad7a8515",
   "metadata": {},
   "source": [
    "### Data Analysis on Customer Segments\n",
    "Now that the data is ready for analysis, we can define some metrics of interest to the client:  <br> \n",
    "• Who spends  the most on chips(totalsales), describing customers by lifestage and how premium their general purchasing behaviour is? <br> \n",
    "• How many customers are in each segment?  <br> \n",
    "• How many chips are bought per customer by segment?  <br> \n",
    "• What’s the average chip price by customer segment?  <br> \n",
    "\n"
   ]
  },
  {
   "cell_type": "code",
   "execution_count": 33,
   "id": "f0b95d4c-b18b-40b8-8f5e-5bc0a7dfc1aa",
   "metadata": {},
   "outputs": [],
   "source": [
    "\n",
    "# Calculate total sales by LIFESTAGE and PREMIUM_CUSTOMER\n",
    "total_sales_by_segment <- merged_data[, .(Total_Sales = sum(TOT_SALES, na.rm = TRUE)), \n",
    "                                 by = .(LIFESTAGE, PREMIUM_CUSTOMER)]\n"
   ]
  },
  {
   "cell_type": "code",
   "execution_count": 34,
   "id": "139a5307-3210-4be3-8db8-ee9f6f14ec66",
   "metadata": {},
   "outputs": [
    {
     "data": {
      "image/png": "[encoded data removed]",
      "text/plain": [
       "plot without title"
      ]
     },
     "metadata": {
      "image/png": {
       "height": 420,
       "width": 420
      }
     },
     "output_type": "display_data"
    }
   ],
   "source": [
    "# Create a bar plot\n",
    "ggplot(total_sales_by_segment, aes(x = LIFESTAGE, y = Total_Sales, fill = PREMIUM_CUSTOMER)) +\n",
    "  geom_bar(stat = \"identity\", position = \"dodge\") +\n",
    "  labs(title = \"Total Chip Sales by Customer Segment\", \n",
    "       x = \"Lifestage\", \n",
    "       y = \"Total Sales\") +\n",
    "  theme_minimal() + \n",
    "  theme(axis.text.x = element_text(angle = 45, hjust = 1)) + \n",
    "scale_fill_brewer(palette = \"Set1\") +\n",
    "theme(plot.margin = margin(25, 25, 25, 25)) \n"
   ]
  },
  {
   "cell_type": "code",
   "execution_count": 35,
   "id": "4a1d3278-132c-458e-90f4-c04eae49324f",
   "metadata": {
    "scrolled": true
   },
   "outputs": [
    {
     "name": "stdout",
     "output_type": "stream",
     "text": [
      "                 LIFESTAGE PREMIUM_CUSTOMER Total_Sales\n",
      "                    <char>           <char>       <num>\n",
      " 1:  YOUNG SINGLES/COUPLES          Premium    41642.10\n",
      " 2:  YOUNG SINGLES/COUPLES       Mainstream   157621.60\n",
      " 3:         YOUNG FAMILIES           Budget   139345.85\n",
      " 4:  OLDER SINGLES/COUPLES       Mainstream   133393.80\n",
      " 5: MIDAGE SINGLES/COUPLES       Mainstream    90803.85\n",
      " 6:  YOUNG SINGLES/COUPLES           Budget    61141.60\n",
      " 7:           NEW FAMILIES          Premium    11491.10\n",
      " 8:         OLDER FAMILIES       Mainstream   103445.55\n",
      " 9:               RETIREES           Budget   113147.80\n",
      "10:  OLDER SINGLES/COUPLES          Premium   132263.15\n",
      "11:         OLDER FAMILIES           Budget   168363.25\n",
      "12: MIDAGE SINGLES/COUPLES          Premium    58432.65\n",
      "13:         OLDER FAMILIES          Premium    81958.40\n",
      "14:               RETIREES       Mainstream   155677.05\n",
      "15:               RETIREES          Premium    97646.05\n",
      "16:         YOUNG FAMILIES       Mainstream    92788.75\n",
      "17: MIDAGE SINGLES/COUPLES           Budget    35514.80\n",
      "18:           NEW FAMILIES       Mainstream    17013.90\n",
      "19:  OLDER SINGLES/COUPLES           Budget   136769.80\n",
      "20:         YOUNG FAMILIES          Premium    84025.50\n",
      "21:           NEW FAMILIES           Budget    21928.45\n",
      "                 LIFESTAGE PREMIUM_CUSTOMER Total_Sales\n"
     ]
    }
   ],
   "source": [
    "# View the summary table\n",
    "print(total_sales_by_segment)\n"
   ]
  },
  {
   "cell_type": "code",
   "execution_count": 36,
   "id": "81efebdd-9327-4fb3-957e-120f60a790bc",
   "metadata": {
    "scrolled": true
   },
   "outputs": [
    {
     "name": "stdout",
     "output_type": "stream",
     "text": [
      "                 LIFESTAGE PREMIUM_CUSTOMER Unique_Customers\n",
      "                    <char>           <char>            <int>\n",
      " 1:  YOUNG SINGLES/COUPLES          Premium             2574\n",
      " 2:  YOUNG SINGLES/COUPLES       Mainstream             8088\n",
      " 3:         YOUNG FAMILIES           Budget             4017\n",
      " 4:  OLDER SINGLES/COUPLES       Mainstream             4930\n",
      " 5: MIDAGE SINGLES/COUPLES       Mainstream             3340\n",
      " 6:  YOUNG SINGLES/COUPLES           Budget             3779\n",
      " 7:           NEW FAMILIES          Premium              588\n",
      " 8:         OLDER FAMILIES       Mainstream             2831\n",
      " 9:               RETIREES           Budget             4454\n",
      "10:  OLDER SINGLES/COUPLES          Premium             4750\n",
      "11:         OLDER FAMILIES           Budget             4675\n",
      "12: MIDAGE SINGLES/COUPLES          Premium             2431\n",
      "13:         OLDER FAMILIES          Premium             2274\n",
      "14:               RETIREES       Mainstream             6479\n",
      "15:               RETIREES          Premium             3872\n",
      "16:         YOUNG FAMILIES       Mainstream             2728\n",
      "17: MIDAGE SINGLES/COUPLES           Budget             1504\n",
      "18:           NEW FAMILIES       Mainstream              849\n",
      "19:  OLDER SINGLES/COUPLES           Budget             4929\n",
      "20:         YOUNG FAMILIES          Premium             2433\n",
      "21:           NEW FAMILIES           Budget             1112\n",
      "                 LIFESTAGE PREMIUM_CUSTOMER Unique_Customers\n"
     ]
    }
   ],
   "source": [
    "##Summary of Unique Customers\n",
    "#Calculate the number of unique customers\n",
    "unique_customers <- merged_data[, .(Unique_Customers = uniqueN(LYLTY_CARD_NBR)), \n",
    "                          by = .(LIFESTAGE, PREMIUM_CUSTOMER)]\n",
    "\n",
    "# View the unique customers summary\n",
    "print(unique_customers)"
   ]
  },
  {
   "cell_type": "code",
   "execution_count": 37,
   "id": "09d6ddeb-88f0-42a7-9981-3e1c75eb0eef",
   "metadata": {},
   "outputs": [
    {
     "data": {
      "image/png": "[encoded data removed]",
      "text/plain": [
       "plot without title"
      ]
     },
     "metadata": {
      "image/png": {
       "height": 420,
       "width": 420
      }
     },
     "output_type": "display_data"
    }
   ],
   "source": [
    "#Create a plot for unique customers\n",
    "ggplot(unique_customers, aes(x = LIFESTAGE, y = Unique_Customers, fill = PREMIUM_CUSTOMER)) +\n",
    "  geom_bar(stat = \"identity\", position = \"dodge\") + \n",
    "  labs(title = \"Number of Unique Customers by Lifestyle\", \n",
    "       x = \"Lifestage\", \n",
    "       y = \"Unique Customers\") +\n",
    "  theme_minimal() +\n",
    "theme(axis.text.x = element_text(angle = 45, hjust = 1)) + \n",
    "scale_fill_brewer(palette = \"Set1\") +\n",
    "theme(plot.margin = margin(25, 25, 25, 25)) \n"
   ]
  },
  {
   "cell_type": "code",
   "execution_count": 38,
   "id": "4e1cd4ca-b0a8-4f48-9d4b-4ecd65c00b0a",
   "metadata": {
    "scrolled": true
   },
   "outputs": [
    {
     "name": "stdout",
     "output_type": "stream",
     "text": [
      "                 LIFESTAGE PREMIUM_CUSTOMER Average_Units\n",
      "                    <char>           <char>         <num>\n",
      " 1:  YOUNG SINGLES/COUPLES          Premium      4.402098\n",
      " 2:  YOUNG SINGLES/COUPLES       Mainstream      4.776459\n",
      " 3:         YOUNG FAMILIES           Budget      9.238486\n",
      " 4:  OLDER SINGLES/COUPLES       Mainstream      7.098783\n",
      " 5: MIDAGE SINGLES/COUPLES       Mainstream      6.796108\n",
      " 6:  YOUNG SINGLES/COUPLES           Budget      4.411485\n",
      " 7:           NEW FAMILIES          Premium      5.028912\n",
      " 8:         OLDER FAMILIES       Mainstream      9.804309\n",
      " 9:               RETIREES           Budget      6.458015\n",
      "10:  OLDER SINGLES/COUPLES          Premium      7.154947\n",
      "11:         OLDER FAMILIES           Budget      9.639572\n",
      "12: MIDAGE SINGLES/COUPLES          Premium      6.386672\n",
      "13:         OLDER FAMILIES          Premium      9.749780\n",
      "14:               RETIREES       Mainstream      6.253743\n",
      "15:               RETIREES          Premium      6.426653\n",
      "16:         YOUNG FAMILIES       Mainstream      9.180352\n",
      "17: MIDAGE SINGLES/COUPLES           Budget      6.313830\n",
      "18:           NEW FAMILIES       Mainstream      5.087161\n",
      "19:  OLDER SINGLES/COUPLES           Budget      7.145466\n",
      "20:         YOUNG FAMILIES          Premium      9.209207\n",
      "21:           NEW FAMILIES           Budget      5.009892\n",
      "                 LIFESTAGE PREMIUM_CUSTOMER Average_Units\n"
     ]
    }
   ],
   "source": [
    "#Average number of units per customerby LIFESTAGE and PREMIUM_CUSTOMER\n",
    "#Calculate total units purchased per customer\n",
    "total_units_per_customer <- merged_data[, .(Total_Units = sum(PROD_QTY)), by = LYLTY_CARD_NBR]\n",
    "\n",
    "#Merge the total units data with customer segments\n",
    "total_units_per_customer <- merge(total_units_per_customer, customerData, by = \"LYLTY_CARD_NBR\", all.x = TRUE)\n",
    "\n",
    "#Calculate average units per customer by LIFESTAGE and PREMIUM_CUSTOMER\n",
    "avg_units_per_customer <- total_units_per_customer[, .(Average_Units = mean(Total_Units, na.rm = TRUE)), \n",
    "                                                    by = .(LIFESTAGE, PREMIUM_CUSTOMER)]\n",
    "\n",
    "#View the average units summary\n",
    "print(avg_units_per_customer)\n"
   ]
  },
  {
   "cell_type": "code",
   "execution_count": 39,
   "id": "5a397f7c-2cc8-448d-8aa5-305980d10fc5",
   "metadata": {
    "scrolled": true
   },
   "outputs": [
    {
     "data": {
      "image/png": "[encoded data removed]",
      "text/plain": [
       "plot without title"
      ]
     },
     "metadata": {
      "image/png": {
       "height": 420,
       "width": 420
      }
     },
     "output_type": "display_data"
    }
   ],
   "source": [
    "#Create a plot for average units per customer\n",
    "ggplot(avg_units_per_customer, aes(x = LIFESTAGE, y = Average_Units, fill = PREMIUM_CUSTOMER)) +\n",
    "  geom_bar(stat = \"identity\", position = \"dodge\") +  # Use \"stack\" for stacked bars if needed\n",
    "  labs(title = \"Average Number of Units per Customer by Segment\", \n",
    "       x = \"Lifestage\", \n",
    "       y = \"Average Units per Customer\") +\n",
    "  theme_minimal() +\n",
    " theme(axis.text.x = element_text(angle = 45, hjust = 1)) + \n",
    "scale_fill_brewer(palette = \"Set1\") +\n",
    "theme(plot.margin = margin(25, 25, 25, 25)) "
   ]
  },
  {
   "cell_type": "code",
   "execution_count": 42,
   "id": "615086a2-c9bb-4d53-9027-27e8c641043b",
   "metadata": {},
   "outputs": [
    {
     "name": "stdout",
     "output_type": "stream",
     "text": [
      "                 LIFESTAGE PREMIUM_CUSTOMER Average_Price\n",
      "                    <char>           <char>         <num>\n",
      " 1:  YOUNG SINGLES/COUPLES          Premium      3.587880\n",
      " 2:  YOUNG SINGLES/COUPLES       Mainstream      4.144507\n",
      " 3:         YOUNG FAMILIES           Budget      3.836333\n",
      " 4:  OLDER SINGLES/COUPLES       Mainstream      3.811121\n",
      " 5: MIDAGE SINGLES/COUPLES       Mainstream      4.077885\n",
      " 6:  YOUNG SINGLES/COUPLES           Budget      3.593321\n",
      " 7:           NEW FAMILIES          Premium      3.865264\n",
      " 8:         OLDER FAMILIES       Mainstream      3.810482\n",
      " 9:               RETIREES           Budget      3.960887\n",
      "10:  OLDER SINGLES/COUPLES          Premium      3.936156\n",
      "11:         OLDER FAMILIES           Budget      3.812175\n",
      "12: MIDAGE SINGLES/COUPLES          Premium      3.763974\n",
      "13:         OLDER FAMILIES          Premium      3.779584\n",
      "14:               RETIREES       Mainstream      3.835157\n",
      "15:               RETIREES          Premium      3.964451\n",
      "16:         YOUNG FAMILIES       Mainstream      3.796891\n",
      "17: MIDAGE SINGLES/COUPLES           Budget      3.730363\n",
      "18:           NEW FAMILIES       Mainstream      3.902435\n",
      "19:  OLDER SINGLES/COUPLES           Budget      3.901387\n",
      "20:         YOUNG FAMILIES          Premium      3.823272\n",
      "21:           NEW FAMILIES           Budget      3.894587\n",
      "                 LIFESTAGE PREMIUM_CUSTOMER Average_Price\n"
     ]
    }
   ],
   "source": [
    "#Calculating Price Per Unit Sold\n",
    "#Calculate total sales and total units purchased per customer\n",
    "total_sales_per_customer <- merged_data[, .(Total_Sales = sum(TOT_SALES)), by = LYLTY_CARD_NBR]\n",
    "total_units_per_customer <- merged_data[, .(Total_Units = sum(PROD_QTY)), by = LYLTY_CARD_NBR]\n",
    "\n",
    "#Merge the sales and units data\n",
    "customer_summary <- merge(total_sales_per_customer, total_units_per_customer, by = \"LYLTY_CARD_NBR\", all.x = TRUE)\n",
    "\n",
    "#Calculate average price per unit\n",
    "customer_summary[, Avg_Price_Per_Unit := Total_Sales / Total_Units]\n",
    "\n",
    "#Merge with customer data to get segments\n",
    "customer_summary <- merge(customer_summary, customerData, by = \"LYLTY_CARD_NBR\", all.x = TRUE)\n",
    "\n",
    "#Calculate average price per unit by LIFESTAGE and PREMIUM_CUSTOMER\n",
    "avg_price_per_unit <- customer_summary[, .(Average_Price = mean(Avg_Price_Per_Unit, na.rm = TRUE)), \n",
    "                                        by = .(LIFESTAGE, PREMIUM_CUSTOMER)]\n",
    "\n",
    "# View the average price summary\n",
    "print(avg_price_per_unit)\n"
   ]
  },
  {
   "cell_type": "code",
   "execution_count": 41,
   "id": "d1de6786-df8e-49a8-81a3-2cc0ac4fca86",
   "metadata": {},
   "outputs": [
    {
     "data": {
      "image/png": "[encoded data removed]",
      "text/plain": [
       "plot without title"
      ]
     },
     "metadata": {
      "image/png": {
       "height": 420,
       "width": 420
      }
     },
     "output_type": "display_data"
    }
   ],
   "source": [
    "#Create a plot for average price per unit\n",
    "ggplot(avg_price_per_unit, aes(x = LIFESTAGE, y = Average_Price, fill = PREMIUM_CUSTOMER)) +\n",
    "  geom_bar(stat = \"identity\", position = \"dodge\") +  \n",
    "  labs(title = \"Average Price per Unit by Segment\", \n",
    "       x = \"Lifestage\", \n",
    "       y = \"Average Price per Unit\") +\n",
    "theme_minimal() +\n",
    "theme(axis.text.x = element_text(angle = 45, hjust = 1)) + \n",
    "scale_fill_brewer(palette = \"Set1\") +\n",
    "theme(plot.margin = margin(25, 25, 25, 25)) "
   ]
  },
  {
   "cell_type": "markdown",
   "id": "76a642c8-5bb0-46e6-8ad6-af97bf56c603",
   "metadata": {},
   "source": [
    "Mainstream midage and young singles and couples are more willing to pay more per packet of chips compared to their budget and premium counterparts. \n",
    "\n",
    "This may be due to premium shoppers being more likely to buy healthy snacks and when they buy chips,this is mainly for entertainment purposes rather than their own consumption. This is also supported by there being  fewer premium midage and young singles and couples buying chips compared to their mainstream counterparts.\n",
    "\n",
    "As the difference in average price per unit isn’t large, we can check if this difference is statistically different"
   ]
  },
  {
   "cell_type": "code",
   "execution_count": 43,
   "id": "53508f42-6eac-4ae3-99b0-d94f3b8e5883",
   "metadata": {},
   "outputs": [
    {
     "data": {
      "text/plain": [
       "\n",
       "\tWelch Two Sample t-test\n",
       "\n",
       "data:  merged_data[LIFESTAGE %in% c(\"YOUNG SINGLES/COUPLES\", \"MIDAGE SINGLES/COUPLES\") & PREMIUM_CUSTOMER == \"Mainstream\", price] and merged_data[LIFESTAGE %in% c(\"YOUNG SINGLES/COUPLES\", \"MIDAGE SINGLES/COUPLES\") & PREMIUM_CUSTOMER != \"Mainstream\", price]\n",
       "t = 40.61, df = 58792, p-value < 2.2e-16\n",
       "alternative hypothesis: true difference in means is greater than 0\n",
       "95 percent confidence interval:\n",
       " 0.3429435       Inf\n",
       "sample estimates:\n",
       "mean of x mean of y \n",
       " 4.045586  3.688165 \n"
      ]
     },
     "metadata": {},
     "output_type": "display_data"
    }
   ],
   "source": [
    "#### Perform an independent t‐test between mainstream vs premium and budget midage and young singles and couples\n",
    "pricePerUnit <- merged_data[, price := TOT_SALES/PROD_QTY] \n",
    "t.test( merged_data[LIFESTAGE %in% c(\"YOUNG SINGLES/COUPLES\", \"MIDAGE SINGLES/COUPLES\") \n",
    "            & PREMIUM_CUSTOMER == \"Mainstream\", price]\n",
    "               ,  merged_data[LIFESTAGE %in% c(\"YOUNG SINGLES/COUPLES\", \"MIDAGE SINGLES/COUPLES\")\n",
    "            & PREMIUM_CUSTOMER != \"Mainstream\", price]\n",
    "                , alternative = \"greater\")\n"
   ]
  },
  {
   "cell_type": "markdown",
   "id": "7782a941-5292-4c17-b52d-b1311af49370",
   "metadata": {},
   "source": [
    "The t-test results in a p-value < 2.2e-16, i.e. the unit price for mainstream, young and mid-age singles and couples are significantly higher than that of budget or premium, young and midage singles and couples. This significant p-value confirms that the observed difference in unit price between these groups is statistically meaningful."
   ]
  },
  {
   "cell_type": "markdown",
   "id": "11c8b572-ca84-488f-9070-8e467e34ebff",
   "metadata": {},
   "source": [
    "## Deep dive into specific customer segments for insights\n",
    "We have found quite a few interesting insights that we can dive deeper into.\n",
    "We might want to target customer segments that contribute the most to sales to retain them or further increasesales. Let’s look at Mainstream-young singles/couples.\n",
    "For instance,let’s find out if they tend to buy a particular brand of chips.\n"
   ]
  },
  {
   "cell_type": "code",
   "execution_count": 46,
   "id": "06f726d8-6217-4035-b0ff-666a8793f976",
   "metadata": {
    "scrolled": true
   },
   "outputs": [
    {
     "data": {
      "text/html": [
       "<table class=\"dataframe\">\n",
       "<caption>A data.table: 22 × 4</caption>\n",
       "<thead>\n",
       "\t<tr><th scope=col>BRAND</th><th scope=col>targetSegment</th><th scope=col>other</th><th scope=col>affinityToBrand</th></tr>\n",
       "\t<tr><th scope=col>&lt;chr&gt;</th><th scope=col>&lt;dbl&gt;</th><th scope=col>&lt;dbl&gt;</th><th scope=col>&lt;dbl&gt;</th></tr>\n",
       "</thead>\n",
       "<tbody>\n",
       "\t<tr><td>Burger    </td><td>0.002743839</td><td>0.006139441</td><td>0.4469201</td></tr>\n",
       "\t<tr><td>WOOLWORTHS</td><td>0.028189066</td><td>0.057379333</td><td>0.4912756</td></tr>\n",
       "\t<tr><td>SUNBITES  </td><td>0.005953614</td><td>0.011708668</td><td>0.5084791</td></tr>\n",
       "\t<tr><td>CCs       </td><td>0.010483537</td><td>0.017586582</td><td>0.5961100</td></tr>\n",
       "\t<tr><td>NCC       </td><td>0.003416856</td><td>0.005466332</td><td>0.6250730</td></tr>\n",
       "\t<tr><td>NATURAL   </td><td>0.014961690</td><td>0.023250131</td><td>0.6435099</td></tr>\n",
       "\t<tr><td>RRD       </td><td>0.045376890</td><td>0.068367732</td><td>0.6637179</td></tr>\n",
       "\t<tr><td>Cheetos   </td><td>0.007532615</td><td>0.011230632</td><td>0.6707205</td></tr>\n",
       "\t<tr><td>French    </td><td>0.003701595</td><td>0.005359149</td><td>0.6907057</td></tr>\n",
       "\t<tr><td>SMITHS    </td><td>0.093419963</td><td>0.121609803</td><td>0.7681943</td></tr>\n",
       "\t<tr><td>Cheezels  </td><td>0.016851315</td><td>0.017355067</td><td>0.9709738</td></tr>\n",
       "\t<tr><td>GRNWVES   </td><td>0.030674053</td><td>0.029027293</td><td>1.0567314</td></tr>\n",
       "\t<tr><td>Thins     </td><td>0.056611100</td><td>0.053038423</td><td>1.0673602</td></tr>\n",
       "\t<tr><td>INFUZIONS </td><td>0.060649203</td><td>0.053111307</td><td>1.1419264</td></tr>\n",
       "\t<tr><td>Cobs      </td><td>0.041856492</td><td>0.036343603</td><td>1.1516880</td></tr>\n",
       "\t<tr><td>DORITOS   </td><td>0.122877407</td><td>0.106044691</td><td>1.1587323</td></tr>\n",
       "\t<tr><td>Pringles  </td><td>0.111979706</td><td>0.093662914</td><td>1.1955608</td></tr>\n",
       "\t<tr><td>Old       </td><td>0.041597639</td><td>0.034722996</td><td>1.1979853</td></tr>\n",
       "\t<tr><td>Tostitos  </td><td>0.042581280</td><td>0.035346801</td><td>1.2046714</td></tr>\n",
       "\t<tr><td>Kettle    </td><td>0.185649203</td><td>0.154084100</td><td>1.2048563</td></tr>\n",
       "\t<tr><td>Twisties  </td><td>0.043306068</td><td>0.035252480</td><td>1.2284545</td></tr>\n",
       "\t<tr><td>Tyrrells  </td><td>0.029586871</td><td>0.023912522</td><td>1.2372962</td></tr>\n",
       "</tbody>\n",
       "</table>\n"
      ],
      "text/latex": [
       "A data.table: 22 × 4\n",
       "\\begin{tabular}{llll}\n",
       " BRAND & targetSegment & other & affinityToBrand\\\\\n",
       " <chr> & <dbl> & <dbl> & <dbl>\\\\\n",
       "\\hline\n",
       "\t Burger     & 0.002743839 & 0.006139441 & 0.4469201\\\\\n",
       "\t WOOLWORTHS & 0.028189066 & 0.057379333 & 0.4912756\\\\\n",
       "\t SUNBITES   & 0.005953614 & 0.011708668 & 0.5084791\\\\\n",
       "\t CCs        & 0.010483537 & 0.017586582 & 0.5961100\\\\\n",
       "\t NCC        & 0.003416856 & 0.005466332 & 0.6250730\\\\\n",
       "\t NATURAL    & 0.014961690 & 0.023250131 & 0.6435099\\\\\n",
       "\t RRD        & 0.045376890 & 0.068367732 & 0.6637179\\\\\n",
       "\t Cheetos    & 0.007532615 & 0.011230632 & 0.6707205\\\\\n",
       "\t French     & 0.003701595 & 0.005359149 & 0.6907057\\\\\n",
       "\t SMITHS     & 0.093419963 & 0.121609803 & 0.7681943\\\\\n",
       "\t Cheezels   & 0.016851315 & 0.017355067 & 0.9709738\\\\\n",
       "\t GRNWVES    & 0.030674053 & 0.029027293 & 1.0567314\\\\\n",
       "\t Thins      & 0.056611100 & 0.053038423 & 1.0673602\\\\\n",
       "\t INFUZIONS  & 0.060649203 & 0.053111307 & 1.1419264\\\\\n",
       "\t Cobs       & 0.041856492 & 0.036343603 & 1.1516880\\\\\n",
       "\t DORITOS    & 0.122877407 & 0.106044691 & 1.1587323\\\\\n",
       "\t Pringles   & 0.111979706 & 0.093662914 & 1.1955608\\\\\n",
       "\t Old        & 0.041597639 & 0.034722996 & 1.1979853\\\\\n",
       "\t Tostitos   & 0.042581280 & 0.035346801 & 1.2046714\\\\\n",
       "\t Kettle     & 0.185649203 & 0.154084100 & 1.2048563\\\\\n",
       "\t Twisties   & 0.043306068 & 0.035252480 & 1.2284545\\\\\n",
       "\t Tyrrells   & 0.029586871 & 0.023912522 & 1.2372962\\\\\n",
       "\\end{tabular}\n"
      ],
      "text/markdown": [
       "\n",
       "A data.table: 22 × 4\n",
       "\n",
       "| BRAND &lt;chr&gt; | targetSegment &lt;dbl&gt; | other &lt;dbl&gt; | affinityToBrand &lt;dbl&gt; |\n",
       "|---|---|---|---|\n",
       "| Burger     | 0.002743839 | 0.006139441 | 0.4469201 |\n",
       "| WOOLWORTHS | 0.028189066 | 0.057379333 | 0.4912756 |\n",
       "| SUNBITES   | 0.005953614 | 0.011708668 | 0.5084791 |\n",
       "| CCs        | 0.010483537 | 0.017586582 | 0.5961100 |\n",
       "| NCC        | 0.003416856 | 0.005466332 | 0.6250730 |\n",
       "| NATURAL    | 0.014961690 | 0.023250131 | 0.6435099 |\n",
       "| RRD        | 0.045376890 | 0.068367732 | 0.6637179 |\n",
       "| Cheetos    | 0.007532615 | 0.011230632 | 0.6707205 |\n",
       "| French     | 0.003701595 | 0.005359149 | 0.6907057 |\n",
       "| SMITHS     | 0.093419963 | 0.121609803 | 0.7681943 |\n",
       "| Cheezels   | 0.016851315 | 0.017355067 | 0.9709738 |\n",
       "| GRNWVES    | 0.030674053 | 0.029027293 | 1.0567314 |\n",
       "| Thins      | 0.056611100 | 0.053038423 | 1.0673602 |\n",
       "| INFUZIONS  | 0.060649203 | 0.053111307 | 1.1419264 |\n",
       "| Cobs       | 0.041856492 | 0.036343603 | 1.1516880 |\n",
       "| DORITOS    | 0.122877407 | 0.106044691 | 1.1587323 |\n",
       "| Pringles   | 0.111979706 | 0.093662914 | 1.1955608 |\n",
       "| Old        | 0.041597639 | 0.034722996 | 1.1979853 |\n",
       "| Tostitos   | 0.042581280 | 0.035346801 | 1.2046714 |\n",
       "| Kettle     | 0.185649203 | 0.154084100 | 1.2048563 |\n",
       "| Twisties   | 0.043306068 | 0.035252480 | 1.2284545 |\n",
       "| Tyrrells   | 0.029586871 | 0.023912522 | 1.2372962 |\n",
       "\n"
      ],
      "text/plain": [
       "   BRAND      targetSegment other       affinityToBrand\n",
       "1  Burger     0.002743839   0.006139441 0.4469201      \n",
       "2  WOOLWORTHS 0.028189066   0.057379333 0.4912756      \n",
       "3  SUNBITES   0.005953614   0.011708668 0.5084791      \n",
       "4  CCs        0.010483537   0.017586582 0.5961100      \n",
       "5  NCC        0.003416856   0.005466332 0.6250730      \n",
       "6  NATURAL    0.014961690   0.023250131 0.6435099      \n",
       "7  RRD        0.045376890   0.068367732 0.6637179      \n",
       "8  Cheetos    0.007532615   0.011230632 0.6707205      \n",
       "9  French     0.003701595   0.005359149 0.6907057      \n",
       "10 SMITHS     0.093419963   0.121609803 0.7681943      \n",
       "11 Cheezels   0.016851315   0.017355067 0.9709738      \n",
       "12 GRNWVES    0.030674053   0.029027293 1.0567314      \n",
       "13 Thins      0.056611100   0.053038423 1.0673602      \n",
       "14 INFUZIONS  0.060649203   0.053111307 1.1419264      \n",
       "15 Cobs       0.041856492   0.036343603 1.1516880      \n",
       "16 DORITOS    0.122877407   0.106044691 1.1587323      \n",
       "17 Pringles   0.111979706   0.093662914 1.1955608      \n",
       "18 Old        0.041597639   0.034722996 1.1979853      \n",
       "19 Tostitos   0.042581280   0.035346801 1.2046714      \n",
       "20 Kettle     0.185649203   0.154084100 1.2048563      \n",
       "21 Twisties   0.043306068   0.035252480 1.2284545      \n",
       "22 Tyrrells   0.029586871   0.023912522 1.2372962      "
      ]
     },
     "metadata": {},
     "output_type": "display_data"
    }
   ],
   "source": [
    "#### Deep dive into Mainstream, young singles/couples\n",
    "segment1 <- merged_data[LIFESTAGE == \"YOUNG SINGLES/COUPLES\" & PREMIUM_CUSTOMER == \"Mainstream\",]\n",
    "other <- merged_data[!(LIFESTAGE == \"YOUNG SINGLES/COUPLES\" & PREMIUM_CUSTOMER == \"Mainstream\"),]\n",
    "\n",
    "#### Brand affinity compared to the rest of the population \n",
    "quantity_segment1 <- segment1[, sum(PROD_QTY)]\n",
    "quantity_other <- other[, sum(PROD_QTY)]\n",
    "\n",
    "quantity_segment1_by_brand <- segment1[, .(targetSegment = sum(PROD_QTY)/quantity_segment1), by = BRAND]\n",
    "quantity_other_by_brand <-  other[, .(other = sum(PROD_QTY)/quantity_other), by = BRAND]\n",
    "brand_proportions <- merge(quantity_segment1_by_brand, quantity_other_by_brand)[, affinityToBrand := targetSegment/other]\n",
    "brand_proportions[order(affinityToBrand)]\n"
   ]
  },
  {
   "cell_type": "code",
   "execution_count": 56,
   "id": "cf053755-145e-4f7f-ac17-87eccc14b4ea",
   "metadata": {
    "scrolled": true
   },
   "outputs": [
    {
     "data": {
      "image/png": "[encoded data removed]",
      "text/plain": [
       "plot without title"
      ]
     },
     "metadata": {
      "image/png": {
       "height": 420,
       "width": 420
      }
     },
     "output_type": "display_data"
    }
   ],
   "source": [
    "library(dplyr)\n",
    "\n",
    "#Filter data for the target segment - Mainstream young singles/couples\n",
    "mainstream_young <- dplyr::filter(merged_data, LIFESTAGE == \"YOUNG SINGLES/COUPLES\" & PREMIUM_CUSTOMER == \"Mainstream\")\n",
    "\n",
    "#Calculate the total number of purchases by brand within this segment\n",
    "brand_counts <- mainstream_young %>%\n",
    "  group_by(BRAND) %>%\n",
    "  summarise(Segment_Purchases = n()) %>%\n",
    "  arrange(desc(Segment_Purchases))\n",
    "\n",
    "#Calculate total purchases for each brand across all segments\n",
    "total_brand_counts <- merged_data %>%\n",
    "  group_by(BRAND) %>%\n",
    "  summarise(Total_Purchases = n())\n",
    "\n",
    "#Join the data to get purchase proportions for this segment vs. overall\n",
    "brand_preference <- brand_counts %>%\n",
    "  left_join(total_brand_counts, by = \"BRAND\") %>%\n",
    "  mutate(Segment_Preference = Segment_Purchases / Total_Purchases) %>%\n",
    "  arrange(desc(Segment_Preference))\n",
    "\n",
    "#Visualize the top brands by preference for this segment\n",
    "ggplot(brand_preference, aes(x = reorder(BRAND, -Segment_Preference), y = Segment_Preference)) +\n",
    "  geom_bar(stat = \"identity\", fill = \"skyblue\") +\n",
    "  labs(title = \"Brand Preference for Mainstream Young Singles/Couples\",\n",
    "       x = \"Brand\",\n",
    "       y = \"Preference Ratio\") +\n",
    "  theme_minimal() +\n",
    "  theme(axis.text.x = element_text(angle = 45, hjust = 1))\n"
   ]
  },
  {
   "cell_type": "markdown",
   "id": "57ec7d30-0cf7-41b3-b280-ab46a5cd88e9",
   "metadata": {},
   "source": [
    "\n",
    "\n",
    "We can see that: <br>\n",
    "• Mainstream young singles/couples are 23% more likely to purchase Tyrrells chips compared to the restofthepopulation <br>\n",
    "• Mainstream youngsingles/couples are 56% less likely to purchase Burger Rings compared to the rest of the population\n",
    "\n",
    "\n",
    "Let’s also find out if our target segment tends to buy larger packs of chips. "
   ]
  },
  {
   "cell_type": "code",
   "execution_count": 57,
   "id": "aff2c966-d264-4397-8097-eff2005b0f86",
   "metadata": {},
   "outputs": [
    {
     "data": {
      "text/html": [
       "<table class=\"dataframe\">\n",
       "<caption>A data.table: 21 × 4</caption>\n",
       "<thead>\n",
       "\t<tr><th scope=col>PACK_SIZE</th><th scope=col>targetSegment</th><th scope=col>other</th><th scope=col>affinityToPack</th></tr>\n",
       "\t<tr><th scope=col>&lt;dbl&gt;</th><th scope=col>&lt;dbl&gt;</th><th scope=col>&lt;dbl&gt;</th><th scope=col>&lt;dbl&gt;</th></tr>\n",
       "</thead>\n",
       "<tbody>\n",
       "\t<tr><td>270</td><td>0.029845724</td><td>0.023357314</td><td>1.2777892</td></tr>\n",
       "\t<tr><td>330</td><td>0.057465314</td><td>0.046686760</td><td>1.2308696</td></tr>\n",
       "\t<tr><td>380</td><td>0.030156347</td><td>0.024669233</td><td>1.2224274</td></tr>\n",
       "\t<tr><td>134</td><td>0.111979706</td><td>0.093662914</td><td>1.1955608</td></tr>\n",
       "\t<tr><td>110</td><td>0.099658314</td><td>0.083570565</td><td>1.1925050</td></tr>\n",
       "\t<tr><td>210</td><td>0.027308967</td><td>0.023380894</td><td>1.1680035</td></tr>\n",
       "\t<tr><td>135</td><td>0.013848623</td><td>0.012169555</td><td>1.1379728</td></tr>\n",
       "\t<tr><td>250</td><td>0.013460344</td><td>0.011895166</td><td>1.1315809</td></tr>\n",
       "\t<tr><td>170</td><td>0.075740319</td><td>0.075375355</td><td>1.0048420</td></tr>\n",
       "\t<tr><td>300</td><td>0.054954442</td><td>0.057214272</td><td>0.9605023</td></tr>\n",
       "\t<tr><td>175</td><td>0.239102299</td><td>0.251301201</td><td>0.9514570</td></tr>\n",
       "\t<tr><td>150</td><td>0.155130462</td><td>0.163306123</td><td>0.9499366</td></tr>\n",
       "\t<tr><td>165</td><td>0.052184717</td><td>0.057953834</td><td>0.9004532</td></tr>\n",
       "\t<tr><td>190</td><td>0.007014910</td><td>0.011580049</td><td>0.6057755</td></tr>\n",
       "\t<tr><td>180</td><td>0.003365086</td><td>0.005646399</td><td>0.5959703</td></tr>\n",
       "\t<tr><td>160</td><td>0.006005384</td><td>0.011515739</td><td>0.5214936</td></tr>\n",
       "\t<tr><td> 90</td><td>0.005953614</td><td>0.011708668</td><td>0.5084791</td></tr>\n",
       "\t<tr><td>125</td><td>0.002821495</td><td>0.005618532</td><td>0.5021766</td></tr>\n",
       "\t<tr><td>200</td><td>0.008412715</td><td>0.017363642</td><td>0.4845017</td></tr>\n",
       "\t<tr><td> 70</td><td>0.002847380</td><td>0.005884345</td><td>0.4838908</td></tr>\n",
       "\t<tr><td>220</td><td>0.002743839</td><td>0.006139441</td><td>0.4469201</td></tr>\n",
       "</tbody>\n",
       "</table>\n"
      ],
      "text/latex": [
       "A data.table: 21 × 4\n",
       "\\begin{tabular}{llll}\n",
       " PACK\\_SIZE & targetSegment & other & affinityToPack\\\\\n",
       " <dbl> & <dbl> & <dbl> & <dbl>\\\\\n",
       "\\hline\n",
       "\t 270 & 0.029845724 & 0.023357314 & 1.2777892\\\\\n",
       "\t 330 & 0.057465314 & 0.046686760 & 1.2308696\\\\\n",
       "\t 380 & 0.030156347 & 0.024669233 & 1.2224274\\\\\n",
       "\t 134 & 0.111979706 & 0.093662914 & 1.1955608\\\\\n",
       "\t 110 & 0.099658314 & 0.083570565 & 1.1925050\\\\\n",
       "\t 210 & 0.027308967 & 0.023380894 & 1.1680035\\\\\n",
       "\t 135 & 0.013848623 & 0.012169555 & 1.1379728\\\\\n",
       "\t 250 & 0.013460344 & 0.011895166 & 1.1315809\\\\\n",
       "\t 170 & 0.075740319 & 0.075375355 & 1.0048420\\\\\n",
       "\t 300 & 0.054954442 & 0.057214272 & 0.9605023\\\\\n",
       "\t 175 & 0.239102299 & 0.251301201 & 0.9514570\\\\\n",
       "\t 150 & 0.155130462 & 0.163306123 & 0.9499366\\\\\n",
       "\t 165 & 0.052184717 & 0.057953834 & 0.9004532\\\\\n",
       "\t 190 & 0.007014910 & 0.011580049 & 0.6057755\\\\\n",
       "\t 180 & 0.003365086 & 0.005646399 & 0.5959703\\\\\n",
       "\t 160 & 0.006005384 & 0.011515739 & 0.5214936\\\\\n",
       "\t  90 & 0.005953614 & 0.011708668 & 0.5084791\\\\\n",
       "\t 125 & 0.002821495 & 0.005618532 & 0.5021766\\\\\n",
       "\t 200 & 0.008412715 & 0.017363642 & 0.4845017\\\\\n",
       "\t  70 & 0.002847380 & 0.005884345 & 0.4838908\\\\\n",
       "\t 220 & 0.002743839 & 0.006139441 & 0.4469201\\\\\n",
       "\\end{tabular}\n"
      ],
      "text/markdown": [
       "\n",
       "A data.table: 21 × 4\n",
       "\n",
       "| PACK_SIZE &lt;dbl&gt; | targetSegment &lt;dbl&gt; | other &lt;dbl&gt; | affinityToPack &lt;dbl&gt; |\n",
       "|---|---|---|---|\n",
       "| 270 | 0.029845724 | 0.023357314 | 1.2777892 |\n",
       "| 330 | 0.057465314 | 0.046686760 | 1.2308696 |\n",
       "| 380 | 0.030156347 | 0.024669233 | 1.2224274 |\n",
       "| 134 | 0.111979706 | 0.093662914 | 1.1955608 |\n",
       "| 110 | 0.099658314 | 0.083570565 | 1.1925050 |\n",
       "| 210 | 0.027308967 | 0.023380894 | 1.1680035 |\n",
       "| 135 | 0.013848623 | 0.012169555 | 1.1379728 |\n",
       "| 250 | 0.013460344 | 0.011895166 | 1.1315809 |\n",
       "| 170 | 0.075740319 | 0.075375355 | 1.0048420 |\n",
       "| 300 | 0.054954442 | 0.057214272 | 0.9605023 |\n",
       "| 175 | 0.239102299 | 0.251301201 | 0.9514570 |\n",
       "| 150 | 0.155130462 | 0.163306123 | 0.9499366 |\n",
       "| 165 | 0.052184717 | 0.057953834 | 0.9004532 |\n",
       "| 190 | 0.007014910 | 0.011580049 | 0.6057755 |\n",
       "| 180 | 0.003365086 | 0.005646399 | 0.5959703 |\n",
       "| 160 | 0.006005384 | 0.011515739 | 0.5214936 |\n",
       "|  90 | 0.005953614 | 0.011708668 | 0.5084791 |\n",
       "| 125 | 0.002821495 | 0.005618532 | 0.5021766 |\n",
       "| 200 | 0.008412715 | 0.017363642 | 0.4845017 |\n",
       "|  70 | 0.002847380 | 0.005884345 | 0.4838908 |\n",
       "| 220 | 0.002743839 | 0.006139441 | 0.4469201 |\n",
       "\n"
      ],
      "text/plain": [
       "   PACK_SIZE targetSegment other       affinityToPack\n",
       "1  270       0.029845724   0.023357314 1.2777892     \n",
       "2  330       0.057465314   0.046686760 1.2308696     \n",
       "3  380       0.030156347   0.024669233 1.2224274     \n",
       "4  134       0.111979706   0.093662914 1.1955608     \n",
       "5  110       0.099658314   0.083570565 1.1925050     \n",
       "6  210       0.027308967   0.023380894 1.1680035     \n",
       "7  135       0.013848623   0.012169555 1.1379728     \n",
       "8  250       0.013460344   0.011895166 1.1315809     \n",
       "9  170       0.075740319   0.075375355 1.0048420     \n",
       "10 300       0.054954442   0.057214272 0.9605023     \n",
       "11 175       0.239102299   0.251301201 0.9514570     \n",
       "12 150       0.155130462   0.163306123 0.9499366     \n",
       "13 165       0.052184717   0.057953834 0.9004532     \n",
       "14 190       0.007014910   0.011580049 0.6057755     \n",
       "15 180       0.003365086   0.005646399 0.5959703     \n",
       "16 160       0.006005384   0.011515739 0.5214936     \n",
       "17  90       0.005953614   0.011708668 0.5084791     \n",
       "18 125       0.002821495   0.005618532 0.5021766     \n",
       "19 200       0.008412715   0.017363642 0.4845017     \n",
       "20  70       0.002847380   0.005884345 0.4838908     \n",
       "21 220       0.002743839   0.006139441 0.4469201     "
      ]
     },
     "metadata": {},
     "output_type": "display_data"
    },
    {
     "name": "stderr",
     "output_type": "stream",
     "text": [
      "\u001b[1m\u001b[22mSaving 7 x 7 in image\n"
     ]
    },
    {
     "data": {
      "image/png": "[encoded data removed]",
      "text/plain": [
       "plot without title"
      ]
     },
     "metadata": {
      "image/png": {
       "height": 420,
       "width": 420
      }
     },
     "output_type": "display_data"
    }
   ],
   "source": [
    "#Comparing mainstream - young singles/couples to the rest of the ppulation\n",
    "#Filter data for the target segment - Mainstream young singles/couples\n",
    "\n",
    "merged_data_filtered <- dplyr::filter(merged_data, LIFESTAGE == \"YOUNG SINGLES/COUPLES\" & PREMIUM_CUSTOMER == \"Mainstream\")\n",
    "quantity_segment1_by_pack <- segment1[, .(targetSegment = \n",
    "            sum(PROD_QTY)/quantity_segment1), by = PACK_SIZE]\n",
    "quantity_other_by_pack <- other[, .(other = sum(PROD_QTY)/quantity_other), by = PACK_SIZE]\n",
    "pack_proportions <- merge(quantity_segment1_by_pack, quantity_other_by_pack)[, affinityToPack := targetSegment/other]\n",
    "pack_proportions[order(-affinityToPack)]\n",
    "\n",
    "#Calculate the pack size distribution for the target segment\n",
    "pack_size_counts_target <- mainstream_young %>%\n",
    "  group_by(PACK_SIZE) %>%\n",
    "  summarise(Target_Segment_Count = n()) %>%\n",
    "  arrange(desc(Target_Segment_Count))\n",
    "\n",
    "#Calculate the pack size distribution for the rest of the population\n",
    "pack_size_counts_rest <- merged_data %>%\n",
    "  filter(!(LIFESTAGE == \"YOUNG SINGLES/COUPLES\" & PREMIUM_CUSTOMER == \"Mainstream\")) %>%\n",
    "  group_by(PACK_SIZE) %>%\n",
    "  summarise(Rest_Population_Count = n())\n",
    "\n",
    "#Merge and calculate the preference for pack sizes within the target segment vs. the rest\n",
    "pack_size_preference <- pack_size_counts_target %>%\n",
    "  left_join(pack_size_counts_rest, by = \"PACK_SIZE\") %>%\n",
    "  mutate(Target_Preference_Ratio = Target_Segment_Count / sum(Target_Segment_Count),\n",
    "         Rest_Population_Ratio = Rest_Population_Count / sum(Rest_Population_Count)) %>%\n",
    "  arrange(desc(Target_Preference_Ratio))\n",
    "\n",
    "#Visualize the pack size preference comparison\n",
    "ggplot(pack_size_preference, aes(x = reorder(PACK_SIZE, -Target_Preference_Ratio))) +\n",
    "  geom_bar(aes(y = Target_Preference_Ratio, fill = \"Target Segment\"), stat = \"identity\", position = \"dodge\") +\n",
    "  geom_bar(aes(y = Rest_Population_Ratio, fill = \"Rest of Population\"), stat = \"identity\", position = \"dodge\") +\n",
    "  labs(title = \"Preferred Pack Size Comparison - Mainstream Young Singles/Couples vs. Rest of Population\",\n",
    "       x = \"Pack Size\",\n",
    "       y = \"Preference Ratio\") +\n",
    "  scale_fill_manual(values = c(\"skyblue\", \"coral\")) +\n",
    "  theme_minimal() +\n",
    "  theme(axis.text.x = element_text(angle = 45, hjust = 1))\n",
    "ggsave(\"Preferred Pack Size Comparison - Mainstream Young Singles/Couples vs. Rest of Population.png\")\n"
   ]
  },
  {
   "cell_type": "markdown",
   "id": "b50caf0e-faee-4447-b1cb-e1c9b8c5bd29",
   "metadata": {},
   "source": [
    "It looks like Mainstream youngsingles/couples are 27% more likely to purchase a 270g pack of chips compared to the rest of the population\n",
    "\n",
    "let’s dive into what brands sell this packsize.\n"
   ]
  },
  {
   "cell_type": "code",
   "execution_count": 58,
   "id": "57d0f738-16fe-43e8-8cf7-4f7336920aff",
   "metadata": {},
   "outputs": [
    {
     "data": {
      "text/html": [
       "<style>\n",
       ".list-inline {list-style: none; margin:0; padding: 0}\n",
       ".list-inline>li {display: inline-block}\n",
       ".list-inline>li:not(:last-child)::after {content: \"\\00b7\"; padding: 0 .5ex}\n",
       "</style>\n",
       "<ol class=list-inline><li><span style=white-space:pre-wrap>'Twisties Cheese     270g'</span></li><li>'Twisties Chicken270g'</li></ol>\n"
      ],
      "text/latex": [
       "\\begin{enumerate*}\n",
       "\\item 'Twisties Cheese     270g'\n",
       "\\item 'Twisties Chicken270g'\n",
       "\\end{enumerate*}\n"
      ],
      "text/markdown": [
       "1. <span style=white-space:pre-wrap>'Twisties Cheese     270g'</span>\n",
       "2. 'Twisties Chicken270g'\n",
       "\n",
       "\n"
      ],
      "text/plain": [
       "[1] \"Twisties Cheese     270g\" \"Twisties Chicken270g\"    "
      ]
     },
     "metadata": {},
     "output_type": "display_data"
    }
   ],
   "source": [
    "merged_data[PACK_SIZE == 270, unique(PROD_NAME)]\n"
   ]
  },
  {
   "cell_type": "markdown",
   "id": "fbb2c403-a14f-4952-9609-2f04b65611b1",
   "metadata": {},
   "source": [
    "Twisties are the only brand offering 270g packs and so this may instead be reflecting a higher likelihood of purchasing Twisties"
   ]
  },
  {
   "cell_type": "markdown",
   "id": "cbf0afe9-85d9-417c-b443-0c4d39d427f9",
   "metadata": {},
   "source": [
    "## Conclusion\n",
    "Sales have mainly been due to Budget-older families, Mainstream-youngsingles/couples, and Mainstream - retirees shoppers. \n",
    "I found that the high spend in chips for mainstream young singles/couples and retirees is due to there being more of them than other buyers. \n",
    "Mainstream, midage and young singles and couples are also more likely to pay more per packet of chips. \n",
    "\n",
    "This is indicative of impulse buying behaviour. We’ve also found that Mainstream young singles and couples are 23% more likely to purchase Tyrrells chips compared to the rest of the population.\n",
    "\n",
    "## Recommendation\n",
    "The Category Manager may want to increase the category’s performance by off-locating some Tyrrells and smaller packs of chips in discretionary space near segments where young singles and couples frequent more often to increase visibilty and impulse behaviour. "
   ]
  },
  {
   "cell_type": "code",
   "execution_count": null,
   "id": "7d3f89b7-9ff2-467b-9cdc-4897c5fc1e62",
   "metadata": {},
   "outputs": [],
   "source": []
  }
 ],
 "metadata": {
  "kernelspec": {
   "display_name": "R",
   "language": "R",
   "name": "ir"
  },
  "language_info": {
   "codemirror_mode": "r",
   "file_extension": ".r",
   "mimetype": "text/x-r-source",
   "name": "R",
   "pygments_lexer": "r",
   "version": "4.4.2"
  }
 },
 "nbformat": 4,
 "nbformat_minor": 5
}
